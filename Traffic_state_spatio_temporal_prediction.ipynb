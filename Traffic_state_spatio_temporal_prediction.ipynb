{
  "cells": [
    {
      "cell_type": "markdown",
      "metadata": {
        "id": "view-in-github",
        "colab_type": "text"
      },
      "source": [
        "<a href=\"https://colab.research.google.com/github/paidahui/machine-learning-curriculum-design/blob/main/Traffic_state_spatio_temporal_prediction.ipynb\" target=\"_parent\"><img src=\"https://colab.research.google.com/assets/colab-badge.svg\" alt=\"Open In Colab\"/></a>"
      ]
    },
    {
      "cell_type": "markdown",
      "metadata": {
        "id": "1tcOyA9qWZKZ"
      },
      "source": [
        "首先用pip安装catboost"
      ]
    },
    {
      "cell_type": "code",
      "execution_count": null,
      "metadata": {
        "colab": {
          "base_uri": "https://localhost:8080/"
        },
        "id": "Lvmknu5CGgeR",
        "outputId": "2f8684a1-6664-4574-fc35-660c75611fe2"
      },
      "outputs": [
        {
          "output_type": "stream",
          "name": "stdout",
          "text": [
            "Looking in indexes: https://pypi.doubanio.com/simple/, https://us-python.pkg.dev/colab-wheels/public/simple/\n",
            "Collecting catboost\n",
            "  Downloading https://pypi.doubanio.com/packages/10/a2/033ab12c1ce75d7d7841d5aa352061fa277d77d474bdf4091cbde8da7c08/catboost-1.1-cp37-none-manylinux1_x86_64.whl (76.8 MB)\n",
            "\u001b[K     |████████████████████████████████| 76.8 MB 23 kB/s \n",
            "\u001b[?25hRequirement already satisfied: numpy>=1.16.0 in /usr/local/lib/python3.7/dist-packages (from catboost) (1.21.6)\n",
            "Requirement already satisfied: pandas>=0.24.0 in /usr/local/lib/python3.7/dist-packages (from catboost) (1.3.5)\n",
            "Requirement already satisfied: six in /usr/local/lib/python3.7/dist-packages (from catboost) (1.15.0)\n",
            "Requirement already satisfied: graphviz in /usr/local/lib/python3.7/dist-packages (from catboost) (0.10.1)\n",
            "Requirement already satisfied: matplotlib in /usr/local/lib/python3.7/dist-packages (from catboost) (3.2.2)\n",
            "Requirement already satisfied: scipy in /usr/local/lib/python3.7/dist-packages (from catboost) (1.7.3)\n",
            "Requirement already satisfied: plotly in /usr/local/lib/python3.7/dist-packages (from catboost) (5.5.0)\n",
            "Requirement already satisfied: python-dateutil>=2.7.3 in /usr/local/lib/python3.7/dist-packages (from pandas>=0.24.0->catboost) (2.8.2)\n",
            "Requirement already satisfied: pytz>=2017.3 in /usr/local/lib/python3.7/dist-packages (from pandas>=0.24.0->catboost) (2022.5)\n",
            "Requirement already satisfied: cycler>=0.10 in /usr/local/lib/python3.7/dist-packages (from matplotlib->catboost) (0.11.0)\n",
            "Requirement already satisfied: kiwisolver>=1.0.1 in /usr/local/lib/python3.7/dist-packages (from matplotlib->catboost) (1.4.4)\n",
            "Requirement already satisfied: pyparsing!=2.0.4,!=2.1.2,!=2.1.6,>=2.0.1 in /usr/local/lib/python3.7/dist-packages (from matplotlib->catboost) (3.0.9)\n",
            "Requirement already satisfied: typing-extensions in /usr/local/lib/python3.7/dist-packages (from kiwisolver>=1.0.1->matplotlib->catboost) (4.1.1)\n",
            "Requirement already satisfied: tenacity>=6.2.0 in /usr/local/lib/python3.7/dist-packages (from plotly->catboost) (8.1.0)\n",
            "Installing collected packages: catboost\n",
            "Successfully installed catboost-1.1\n"
          ]
        }
      ],
      "source": [
        "!pip install catboost -i  https://pypi.doubanio.com/simple/"
      ]
    },
    {
      "cell_type": "markdown",
      "metadata": {
        "id": "fQm1Q8drHP1_"
      },
      "source": [
        "统一导入需要使用的包"
      ]
    },
    {
      "cell_type": "code",
      "execution_count": null,
      "metadata": {
        "id": "S9zlj6V6Gtbh"
      },
      "outputs": [],
      "source": [
        "import pandas as pd\n",
        "import numpy as np\n",
        "from tqdm import tqdm\n",
        "import time\n",
        "import pandas as pd\n",
        "import numpy as np\n",
        "from tqdm import tqdm\n",
        "import lightgbm as lgb\n",
        "from xgboost import XGBClassifier\n",
        "from catboost import  CatBoostClassifier\n",
        "from sklearn.model_selection import KFold\n",
        "from sklearn.metrics import f1_score\n",
        "from scipy.stats import stats\n",
        "import warnings\n",
        "warnings.filterwarnings(\"ignore\")"
      ]
    },
    {
      "cell_type": "markdown",
      "metadata": {
        "id": "QWkuiqzYHYTL"
      },
      "source": [
        "DEBUG参数为True时可快速跑通代码，为False则恢复为真实案例"
      ]
    },
    {
      "cell_type": "code",
      "execution_count": null,
      "metadata": {
        "id": "MeUAezDeHVMv"
      },
      "outputs": [],
      "source": [
        "NROWS=None\n",
        "MAX_DEPTH=8\n",
        "K_FOLD=10"
      ]
    },
    {
      "cell_type": "code",
      "execution_count": null,
      "metadata": {
        "colab": {
          "base_uri": "https://localhost:8080/",
          "height": 174
        },
        "id": "9VUBDSS9Hc_-",
        "outputId": "d8ef588c-d633-46cf-9b5f-48ea89a11243"
      },
      "outputs": [
        {
          "output_type": "execute_result",
          "data": {
            "text/plain": [
              "     link  label  current_slice_id  future_slice_id  time_of_r_f_1  \\\n",
              "0  353495      1               236              245            232   \n",
              "\n",
              "   speed_of_r_f_1  eta_speed_of_r_f_1  statu_of_r_f_1  num_car_of_r_f_1  \\\n",
              "0            29.8                32.4               1                 4   \n",
              "\n",
              "   time_of_r_f_2  ...  time_of_h_f_4_4  speed_of_h_f_4_4  \\\n",
              "0            233  ...              248              30.0   \n",
              "\n",
              "   eta_speed_of_h_f_4_4  statu_of_h_f_4_4  num_car_of_h_f_4_4  \\\n",
              "0                  35.6                 1                   4   \n",
              "\n",
              "   time_of_h_f_4_5  speed_of_h_f_4_5  eta_speed_of_h_f_4_5  statu_of_h_f_4_5  \\\n",
              "0              249              29.4                  37.2                 1   \n",
              "\n",
              "   num_car_of_h_f_4_5  \n",
              "0                   5  \n",
              "\n",
              "[1 rows x 129 columns]"
            ],
            "text/html": [
              "\n",
              "  <div id=\"df-9d9b060e-4357-44a0-aad9-ae7b199da242\">\n",
              "    <div class=\"colab-df-container\">\n",
              "      <div>\n",
              "<style scoped>\n",
              "    .dataframe tbody tr th:only-of-type {\n",
              "        vertical-align: middle;\n",
              "    }\n",
              "\n",
              "    .dataframe tbody tr th {\n",
              "        vertical-align: top;\n",
              "    }\n",
              "\n",
              "    .dataframe thead th {\n",
              "        text-align: right;\n",
              "    }\n",
              "</style>\n",
              "<table border=\"1\" class=\"dataframe\">\n",
              "  <thead>\n",
              "    <tr style=\"text-align: right;\">\n",
              "      <th></th>\n",
              "      <th>link</th>\n",
              "      <th>label</th>\n",
              "      <th>current_slice_id</th>\n",
              "      <th>future_slice_id</th>\n",
              "      <th>time_of_r_f_1</th>\n",
              "      <th>speed_of_r_f_1</th>\n",
              "      <th>eta_speed_of_r_f_1</th>\n",
              "      <th>statu_of_r_f_1</th>\n",
              "      <th>num_car_of_r_f_1</th>\n",
              "      <th>time_of_r_f_2</th>\n",
              "      <th>...</th>\n",
              "      <th>time_of_h_f_4_4</th>\n",
              "      <th>speed_of_h_f_4_4</th>\n",
              "      <th>eta_speed_of_h_f_4_4</th>\n",
              "      <th>statu_of_h_f_4_4</th>\n",
              "      <th>num_car_of_h_f_4_4</th>\n",
              "      <th>time_of_h_f_4_5</th>\n",
              "      <th>speed_of_h_f_4_5</th>\n",
              "      <th>eta_speed_of_h_f_4_5</th>\n",
              "      <th>statu_of_h_f_4_5</th>\n",
              "      <th>num_car_of_h_f_4_5</th>\n",
              "    </tr>\n",
              "  </thead>\n",
              "  <tbody>\n",
              "    <tr>\n",
              "      <th>0</th>\n",
              "      <td>353495</td>\n",
              "      <td>1</td>\n",
              "      <td>236</td>\n",
              "      <td>245</td>\n",
              "      <td>232</td>\n",
              "      <td>29.8</td>\n",
              "      <td>32.4</td>\n",
              "      <td>1</td>\n",
              "      <td>4</td>\n",
              "      <td>233</td>\n",
              "      <td>...</td>\n",
              "      <td>248</td>\n",
              "      <td>30.0</td>\n",
              "      <td>35.6</td>\n",
              "      <td>1</td>\n",
              "      <td>4</td>\n",
              "      <td>249</td>\n",
              "      <td>29.4</td>\n",
              "      <td>37.2</td>\n",
              "      <td>1</td>\n",
              "      <td>5</td>\n",
              "    </tr>\n",
              "  </tbody>\n",
              "</table>\n",
              "<p>1 rows × 129 columns</p>\n",
              "</div>\n",
              "      <button class=\"colab-df-convert\" onclick=\"convertToInteractive('df-9d9b060e-4357-44a0-aad9-ae7b199da242')\"\n",
              "              title=\"Convert this dataframe to an interactive table.\"\n",
              "              style=\"display:none;\">\n",
              "        \n",
              "  <svg xmlns=\"http://www.w3.org/2000/svg\" height=\"24px\"viewBox=\"0 0 24 24\"\n",
              "       width=\"24px\">\n",
              "    <path d=\"M0 0h24v24H0V0z\" fill=\"none\"/>\n",
              "    <path d=\"M18.56 5.44l.94 2.06.94-2.06 2.06-.94-2.06-.94-.94-2.06-.94 2.06-2.06.94zm-11 1L8.5 8.5l.94-2.06 2.06-.94-2.06-.94L8.5 2.5l-.94 2.06-2.06.94zm10 10l.94 2.06.94-2.06 2.06-.94-2.06-.94-.94-2.06-.94 2.06-2.06.94z\"/><path d=\"M17.41 7.96l-1.37-1.37c-.4-.4-.92-.59-1.43-.59-.52 0-1.04.2-1.43.59L10.3 9.45l-7.72 7.72c-.78.78-.78 2.05 0 2.83L4 21.41c.39.39.9.59 1.41.59.51 0 1.02-.2 1.41-.59l7.78-7.78 2.81-2.81c.8-.78.8-2.07 0-2.86zM5.41 20L4 18.59l7.72-7.72 1.47 1.35L5.41 20z\"/>\n",
              "  </svg>\n",
              "      </button>\n",
              "      \n",
              "  <style>\n",
              "    .colab-df-container {\n",
              "      display:flex;\n",
              "      flex-wrap:wrap;\n",
              "      gap: 12px;\n",
              "    }\n",
              "\n",
              "    .colab-df-convert {\n",
              "      background-color: #E8F0FE;\n",
              "      border: none;\n",
              "      border-radius: 50%;\n",
              "      cursor: pointer;\n",
              "      display: none;\n",
              "      fill: #1967D2;\n",
              "      height: 32px;\n",
              "      padding: 0 0 0 0;\n",
              "      width: 32px;\n",
              "    }\n",
              "\n",
              "    .colab-df-convert:hover {\n",
              "      background-color: #E2EBFA;\n",
              "      box-shadow: 0px 1px 2px rgba(60, 64, 67, 0.3), 0px 1px 3px 1px rgba(60, 64, 67, 0.15);\n",
              "      fill: #174EA6;\n",
              "    }\n",
              "\n",
              "    [theme=dark] .colab-df-convert {\n",
              "      background-color: #3B4455;\n",
              "      fill: #D2E3FC;\n",
              "    }\n",
              "\n",
              "    [theme=dark] .colab-df-convert:hover {\n",
              "      background-color: #434B5C;\n",
              "      box-shadow: 0px 1px 3px 1px rgba(0, 0, 0, 0.15);\n",
              "      filter: drop-shadow(0px 1px 2px rgba(0, 0, 0, 0.3));\n",
              "      fill: #FFFFFF;\n",
              "    }\n",
              "  </style>\n",
              "\n",
              "      <script>\n",
              "        const buttonEl =\n",
              "          document.querySelector('#df-9d9b060e-4357-44a0-aad9-ae7b199da242 button.colab-df-convert');\n",
              "        buttonEl.style.display =\n",
              "          google.colab.kernel.accessAllowed ? 'block' : 'none';\n",
              "\n",
              "        async function convertToInteractive(key) {\n",
              "          const element = document.querySelector('#df-9d9b060e-4357-44a0-aad9-ae7b199da242');\n",
              "          const dataTable =\n",
              "            await google.colab.kernel.invokeFunction('convertToInteractive',\n",
              "                                                     [key], {});\n",
              "          if (!dataTable) return;\n",
              "\n",
              "          const docLinkHtml = 'Like what you see? Visit the ' +\n",
              "            '<a target=\"_blank\" href=https://colab.research.google.com/notebooks/data_table.ipynb>data table notebook</a>'\n",
              "            + ' to learn more about interactive tables.';\n",
              "          element.innerHTML = '';\n",
              "          dataTable['output_type'] = 'display_data';\n",
              "          await google.colab.output.renderOutput(dataTable, element);\n",
              "          const docLink = document.createElement('div');\n",
              "          docLink.innerHTML = docLinkHtml;\n",
              "          element.appendChild(docLink);\n",
              "        }\n",
              "      </script>\n",
              "    </div>\n",
              "  </div>\n",
              "  "
            ]
          },
          "metadata": {},
          "execution_count": 8
        }
      ],
      "source": [
        "data = pd.read_csv(r'./drive/MyDrive/datasets/data/20190701.csv',nrows=1)\n",
        "data"
      ]
    },
    {
      "cell_type": "code",
      "execution_count": null,
      "metadata": {
        "colab": {
          "base_uri": "https://localhost:8080/",
          "height": 159
        },
        "id": "hdZK0XUVHd5l",
        "outputId": "82aef1d4-17fd-4d1d-e708-bcce0f935d20"
      },
      "outputs": [
        {
          "output_type": "execute_result",
          "data": {
            "text/plain": [
              "                  0                                                  1  \\\n",
              "0  353495 1 236 245  232:29.80,32.40,1,4 233:31.60,32.20,1,2 234:20...   \n",
              "\n",
              "                                                   2  \\\n",
              "0  245:30.00,32.70,0,9 246:30.00,36.10,0,10 247:2...   \n",
              "\n",
              "                                                   3  \\\n",
              "0  245:36.10,37.30,1,7 246:29.30,38.50,1,7 247:27...   \n",
              "\n",
              "                                                   4  \\\n",
              "0  245:30.40,40.10,1,6 246:32.30,40.10,1,6 247:30...   \n",
              "\n",
              "                                                   5  \n",
              "0  245:28.30,38.40,1,7 246:28.20,39.40,1,6 247:28...  "
            ],
            "text/html": [
              "\n",
              "  <div id=\"df-4db4aef3-a2f5-4c0f-b054-1911bfafeafc\">\n",
              "    <div class=\"colab-df-container\">\n",
              "      <div>\n",
              "<style scoped>\n",
              "    .dataframe tbody tr th:only-of-type {\n",
              "        vertical-align: middle;\n",
              "    }\n",
              "\n",
              "    .dataframe tbody tr th {\n",
              "        vertical-align: top;\n",
              "    }\n",
              "\n",
              "    .dataframe thead th {\n",
              "        text-align: right;\n",
              "    }\n",
              "</style>\n",
              "<table border=\"1\" class=\"dataframe\">\n",
              "  <thead>\n",
              "    <tr style=\"text-align: right;\">\n",
              "      <th></th>\n",
              "      <th>0</th>\n",
              "      <th>1</th>\n",
              "      <th>2</th>\n",
              "      <th>3</th>\n",
              "      <th>4</th>\n",
              "      <th>5</th>\n",
              "    </tr>\n",
              "  </thead>\n",
              "  <tbody>\n",
              "    <tr>\n",
              "      <th>0</th>\n",
              "      <td>353495 1 236 245</td>\n",
              "      <td>232:29.80,32.40,1,4 233:31.60,32.20,1,2 234:20...</td>\n",
              "      <td>245:30.00,32.70,0,9 246:30.00,36.10,0,10 247:2...</td>\n",
              "      <td>245:36.10,37.30,1,7 246:29.30,38.50,1,7 247:27...</td>\n",
              "      <td>245:30.40,40.10,1,6 246:32.30,40.10,1,6 247:30...</td>\n",
              "      <td>245:28.30,38.40,1,7 246:28.20,39.40,1,6 247:28...</td>\n",
              "    </tr>\n",
              "  </tbody>\n",
              "</table>\n",
              "</div>\n",
              "      <button class=\"colab-df-convert\" onclick=\"convertToInteractive('df-4db4aef3-a2f5-4c0f-b054-1911bfafeafc')\"\n",
              "              title=\"Convert this dataframe to an interactive table.\"\n",
              "              style=\"display:none;\">\n",
              "        \n",
              "  <svg xmlns=\"http://www.w3.org/2000/svg\" height=\"24px\"viewBox=\"0 0 24 24\"\n",
              "       width=\"24px\">\n",
              "    <path d=\"M0 0h24v24H0V0z\" fill=\"none\"/>\n",
              "    <path d=\"M18.56 5.44l.94 2.06.94-2.06 2.06-.94-2.06-.94-.94-2.06-.94 2.06-2.06.94zm-11 1L8.5 8.5l.94-2.06 2.06-.94-2.06-.94L8.5 2.5l-.94 2.06-2.06.94zm10 10l.94 2.06.94-2.06 2.06-.94-2.06-.94-.94-2.06-.94 2.06-2.06.94z\"/><path d=\"M17.41 7.96l-1.37-1.37c-.4-.4-.92-.59-1.43-.59-.52 0-1.04.2-1.43.59L10.3 9.45l-7.72 7.72c-.78.78-.78 2.05 0 2.83L4 21.41c.39.39.9.59 1.41.59.51 0 1.02-.2 1.41-.59l7.78-7.78 2.81-2.81c.8-.78.8-2.07 0-2.86zM5.41 20L4 18.59l7.72-7.72 1.47 1.35L5.41 20z\"/>\n",
              "  </svg>\n",
              "      </button>\n",
              "      \n",
              "  <style>\n",
              "    .colab-df-container {\n",
              "      display:flex;\n",
              "      flex-wrap:wrap;\n",
              "      gap: 12px;\n",
              "    }\n",
              "\n",
              "    .colab-df-convert {\n",
              "      background-color: #E8F0FE;\n",
              "      border: none;\n",
              "      border-radius: 50%;\n",
              "      cursor: pointer;\n",
              "      display: none;\n",
              "      fill: #1967D2;\n",
              "      height: 32px;\n",
              "      padding: 0 0 0 0;\n",
              "      width: 32px;\n",
              "    }\n",
              "\n",
              "    .colab-df-convert:hover {\n",
              "      background-color: #E2EBFA;\n",
              "      box-shadow: 0px 1px 2px rgba(60, 64, 67, 0.3), 0px 1px 3px 1px rgba(60, 64, 67, 0.15);\n",
              "      fill: #174EA6;\n",
              "    }\n",
              "\n",
              "    [theme=dark] .colab-df-convert {\n",
              "      background-color: #3B4455;\n",
              "      fill: #D2E3FC;\n",
              "    }\n",
              "\n",
              "    [theme=dark] .colab-df-convert:hover {\n",
              "      background-color: #434B5C;\n",
              "      box-shadow: 0px 1px 3px 1px rgba(0, 0, 0, 0.15);\n",
              "      filter: drop-shadow(0px 1px 2px rgba(0, 0, 0, 0.3));\n",
              "      fill: #FFFFFF;\n",
              "    }\n",
              "  </style>\n",
              "\n",
              "      <script>\n",
              "        const buttonEl =\n",
              "          document.querySelector('#df-4db4aef3-a2f5-4c0f-b054-1911bfafeafc button.colab-df-convert');\n",
              "        buttonEl.style.display =\n",
              "          google.colab.kernel.accessAllowed ? 'block' : 'none';\n",
              "\n",
              "        async function convertToInteractive(key) {\n",
              "          const element = document.querySelector('#df-4db4aef3-a2f5-4c0f-b054-1911bfafeafc');\n",
              "          const dataTable =\n",
              "            await google.colab.kernel.invokeFunction('convertToInteractive',\n",
              "                                                     [key], {});\n",
              "          if (!dataTable) return;\n",
              "\n",
              "          const docLinkHtml = 'Like what you see? Visit the ' +\n",
              "            '<a target=\"_blank\" href=https://colab.research.google.com/notebooks/data_table.ipynb>data table notebook</a>'\n",
              "            + ' to learn more about interactive tables.';\n",
              "          element.innerHTML = '';\n",
              "          dataTable['output_type'] = 'display_data';\n",
              "          await google.colab.output.renderOutput(dataTable, element);\n",
              "          const docLink = document.createElement('div');\n",
              "          docLink.innerHTML = docLinkHtml;\n",
              "          element.appendChild(docLink);\n",
              "        }\n",
              "      </script>\n",
              "    </div>\n",
              "  </div>\n",
              "  "
            ]
          },
          "metadata": {},
          "execution_count": 9
        }
      ],
      "source": [
        "data = pd.read_table(r'./drive/MyDrive/datasets/data/20190701.txt',header=None,sep=';',nrows=1)\n",
        "data"
      ]
    },
    {
      "cell_type": "code",
      "execution_count": null,
      "metadata": {
        "colab": {
          "base_uri": "https://localhost:8080/"
        },
        "id": "rJrklTSVHgHV",
        "outputId": "3aee97f3-5b6b-4805-cf2c-1db6c9e5ad13"
      },
      "outputs": [
        {
          "output_type": "execute_result",
          "data": {
            "text/plain": [
              "0    232:29.80,32.40,1,4 233:31.60,32.20,1,2 234:20...\n",
              "Name: 1, dtype: object"
            ]
          },
          "metadata": {},
          "execution_count": 10
        }
      ],
      "source": [
        "data[1]"
      ]
    },
    {
      "cell_type": "markdown",
      "metadata": {
        "id": "Q3VE7tOnXu-P"
      },
      "source": [
        "读取数据，将所有日期整合到一起"
      ]
    },
    {
      "cell_type": "code",
      "execution_count": null,
      "metadata": {
        "colab": {
          "base_uri": "https://localhost:8080/",
          "height": 310
        },
        "id": "axayQI5QXsyh",
        "outputId": "89b883b7-abcd-4a03-eed4-55f20df5125c"
      },
      "outputs": [
        {
          "output_type": "stream",
          "name": "stderr",
          "text": [
            "100%|██████████| 21/21 [00:41<00:00,  1.98s/it]\n"
          ]
        },
        {
          "output_type": "execute_result",
          "data": {
            "text/plain": [
              "<matplotlib.axes._subplots.AxesSubplot at 0x7f87223bbad0>"
            ]
          },
          "metadata": {},
          "execution_count": 11
        },
        {
          "output_type": "display_data",
          "data": {
            "text/plain": [
              "<Figure size 432x288 with 1 Axes>"
            ],
            "image/png": "[encoded data removed]"
          },
          "metadata": {
            "needs_background": "light"
          }
        }
      ],
      "source": [
        "data = pd.DataFrame()\n",
        "dates=['20190710',\n",
        "       '20190711','20190712','20190713','20190714','20190715','20190716','20190717','20190718','20190719','20190720',\n",
        "      '20190721','20190722','20190723','20190724','20190725','20190726','20190727','20190728','20190729','20190730',]\n",
        "\n",
        "for date in tqdm(dates):\n",
        "    tmp = pd.read_csv(r'./drive/MyDrive/datasets/data/all_{}.csv'.format(date),nrows=NROWS)\n",
        "    tmp=tmp[tmp['day']>0]\n",
        "    tmp=tmp[tmp['statu_of_r_f']!=0]\n",
        "    tmp=tmp[tmp['statu_of_r_f']!=-1]\n",
        "    data = pd.concat([data,tmp],axis = 0)\n",
        "    #去重\n",
        "    data =data.drop_duplicates(['link','day','time_of_r_f','speed_of_r_f','eta_speed_of_r_f','statu_of_r_f','num_car_of_r_f','hour','minute'])\n",
        "    \n",
        "    \n",
        "data['time'] = pd.to_datetime(data['time'], infer_datetime_format=True)\n",
        "data=data.sort_values(by=['time'],ascending=True)\n",
        "data['statu_of_r_f'].value_counts().plot.bar()"
      ]
    },
    {
      "cell_type": "code",
      "execution_count": null,
      "metadata": {
        "colab": {
          "base_uri": "https://localhost:8080/",
          "height": 310
        },
        "id": "WxDAdwtXX2Kl",
        "outputId": "c2abde07-2baa-4f2a-de8b-41c06040722c"
      },
      "outputs": [
        {
          "output_type": "stream",
          "name": "stderr",
          "text": [
            "100%|██████████| 21/21 [01:32<00:00,  4.40s/it]\n"
          ]
        },
        {
          "output_type": "execute_result",
          "data": {
            "text/plain": [
              "<matplotlib.axes._subplots.AxesSubplot at 0x7f8721a8de90>"
            ]
          },
          "metadata": {},
          "execution_count": 12
        },
        {
          "output_type": "display_data",
          "data": {
            "text/plain": [
              "<Figure size 432x288 with 1 Axes>"
            ],
            "image/png": "[encoded data removed]"
          },
          "metadata": {
            "needs_background": "light"
          }
        }
      ],
      "source": [
        "dates=['20190710',\n",
        "       '20190711','20190712','20190713','20190714','20190715','20190716','20190717','20190718','20190719','20190720',\n",
        "      '20190721','20190722','20190723','20190724','20190725','20190726','20190727','20190728','20190729','20190730',]\n",
        "\n",
        "train = pd.DataFrame()\n",
        "count = 10\n",
        "for date in tqdm(dates):\n",
        "    tmp = pd.read_csv(r'./drive/MyDrive/datasets/data/{}.csv'.format(date),nrows=NROWS)\n",
        "\n",
        "\n",
        "    tmp['day']=count\n",
        "    count =count+1\n",
        "    train = pd.concat([train,tmp],axis = 0)\n",
        "\n",
        "train['label'].value_counts().plot.bar()"
      ]
    },
    {
      "cell_type": "markdown",
      "metadata": {
        "id": "p9YDz-9BX4_x"
      },
      "source": [
        "查看数据集中的时间分布,btest.csv文件是为了方便提取特征将测试集时间片并列排列的数据，结构同data"
      ]
    },
    {
      "cell_type": "code",
      "execution_count": null,
      "metadata": {
        "id": "0RWOw1iVX5uw"
      },
      "outputs": [],
      "source": [
        "testdata = pd.read_csv(r'./drive/MyDrive/datasets/data/btest.csv')"
      ]
    },
    {
      "cell_type": "markdown",
      "metadata": {
        "id": "RT92z6FZX7zk"
      },
      "source": [
        "测试集"
      ]
    },
    {
      "cell_type": "code",
      "execution_count": null,
      "metadata": {
        "colab": {
          "base_uri": "https://localhost:8080/",
          "height": 286
        },
        "id": "d0hAcGGOX9sH",
        "outputId": "767b643a-3deb-4cab-bede-eb2920df7e9c"
      },
      "outputs": [
        {
          "output_type": "execute_result",
          "data": {
            "text/plain": [
              "<matplotlib.axes._subplots.AxesSubplot at 0x7f8721a04490>"
            ]
          },
          "metadata": {},
          "execution_count": 14
        },
        {
          "output_type": "display_data",
          "data": {
            "text/plain": [
              "<Figure size 432x288 with 1 Axes>"
            ],
            "image/png": "[encoded data removed]"
          },
          "metadata": {
            "needs_background": "light"
          }
        }
      ],
      "source": [
        "test_hour = testdata.hour.value_counts().reset_index().sort_values(by=['index'],ascending=True).reset_index(drop=True)\n",
        "test_hour.drop('index',axis=1).plot.bar()"
      ]
    },
    {
      "cell_type": "markdown",
      "metadata": {
        "id": "iSmb0SFHYBXt"
      },
      "source": [
        "训练集"
      ]
    },
    {
      "cell_type": "code",
      "execution_count": null,
      "metadata": {
        "colab": {
          "base_uri": "https://localhost:8080/",
          "height": 286
        },
        "id": "92S2faB_YCvP",
        "outputId": "6cbee508-40c4-4f28-aea6-4be273210e9b"
      },
      "outputs": [
        {
          "output_type": "execute_result",
          "data": {
            "text/plain": [
              "<matplotlib.axes._subplots.AxesSubplot at 0x7f87223ec290>"
            ]
          },
          "metadata": {},
          "execution_count": 15
        },
        {
          "output_type": "display_data",
          "data": {
            "text/plain": [
              "<Figure size 432x288 with 1 Axes>"
            ],
            "image/png": "[encoded data removed]"
          },
          "metadata": {
            "needs_background": "light"
          }
        }
      ],
      "source": [
        "data = data.hour.value_counts().reset_index().sort_values(by=['index'],ascending=True).reset_index(drop=True)\n",
        "data.drop('index',axis=1).plot.bar()"
      ]
    },
    {
      "cell_type": "code",
      "execution_count": null,
      "metadata": {
        "id": "hx4UgscBYG1m"
      },
      "outputs": [],
      "source": [
        "testdata=testdata[testdata['day']==1]\n",
        "#合并两个用于提取特征的数据集\n",
        "data = pd.concat([data,testdata],axis = 0)\n",
        "data['time'] = pd.to_datetime(data['time'], infer_datetime_format=True)\n",
        "data=data.sort_values(by=['time'],ascending=True).reset_index(drop=True)\n",
        "#读取测试集、道路拓扑信息和道路基本物理信息\n",
        "testa=pd.read_csv(r'./drive/MyDrive/datasets/data/20190801_testdata.csv',nrows=NROWS)\n",
        "topo = pd.read_csv(r'./drive/MyDrive/datasets/data/topo.txt', sep='\\t', names=['link', 'roundlink'], header=None)\n",
        "attr = pd.read_table(r'./drive/MyDrive/datasets/data/attr.txt',header=None)\n",
        "attr.columns = ['link','length','direction','pathclass','speedclass','LaneNum','speedlimit','level',\n",
        "                    'width']\n",
        "#获取当前与预测时间的差距\n",
        "testa['timestamp'] = testa['future_slice_id'] - testa['current_slice_id']\n",
        "train['timestamp'] = train['future_slice_id'] - train['current_slice_id']\n",
        "train['hour']=train['future_slice_id']  //30\n",
        "testa['hour']=testa['future_slice_id']  //30"
      ]
    },
    {
      "cell_type": "markdown",
      "metadata": {
        "id": "X6wp-ph8YJzS"
      },
      "source": [
        "选出训练集中和测试集每个link时间分布一样的数据，即采样。"
      ]
    },
    {
      "cell_type": "code",
      "execution_count": null,
      "metadata": {
        "colab": {
          "base_uri": "https://localhost:8080/"
        },
        "id": "MbQVNTe0YHko",
        "outputId": "10094b20-2b9c-4c64-a8e6-9f29ca060073"
      },
      "outputs": [
        {
          "output_type": "stream",
          "name": "stderr",
          "text": [
            "100%|██████████| 12224/12224 [11:42<00:00, 17.39it/s]\n"
          ]
        }
      ],
      "source": [
        "havelink = testa['link'].unique()\n",
        "for i in tqdm(havelink):\n",
        "    time = testa[testa['link']==i]['hour'].value_counts().index\n",
        "    train.loc[((train['link'] == i) & (train['hour'].isin(time ))) ,'isok'] =  1\n",
        "\n",
        "train=train[train['isok']==1]"
      ]
    },
    {
      "cell_type": "markdown",
      "metadata": {
        "id": "JketBOgOYRjH"
      },
      "source": [
        "观察当前与预测时间的差距"
      ]
    },
    {
      "cell_type": "code",
      "execution_count": null,
      "metadata": {
        "colab": {
          "base_uri": "https://localhost:8080/"
        },
        "id": "5gusy7x7YMtp",
        "outputId": "bcb00264-5821-43c2-fa21-c5881d56586a"
      },
      "outputs": [
        {
          "output_type": "stream",
          "name": "stdout",
          "text": [
            "差距的中位数:16.0\n",
            "差距的平均数:15.518925972170665\n",
            "平均速度：5.702746862323932\n",
            "link的平均长度:104.681886883203\n"
          ]
        }
      ],
      "source": [
        "print(\"差距的中位数:{}\".format(train['timestamp'].median()))\n",
        "print(\"差距的平均数:{}\".format(train['timestamp'].mean()))\n",
        "#观察其他性质\n",
        "print(\"平均速度：{}\".format(data['speed_of_r_f'].mean()))\n",
        "print(\"link的平均长度:{}\".format(attr['length'].mean()))"
      ]
    },
    {
      "cell_type": "markdown",
      "metadata": {
        "id": "6IGz3esnYXv9"
      },
      "source": [
        "合并数据集"
      ]
    },
    {
      "cell_type": "code",
      "execution_count": null,
      "metadata": {
        "id": "AoFB0Oy6YUbn"
      },
      "outputs": [],
      "source": [
        "train = pd.concat([train,testa])"
      ]
    },
    {
      "cell_type": "code",
      "execution_count": null,
      "metadata": {
        "id": "dYn5Rg8DYjdK"
      },
      "outputs": [],
      "source": [
        "#该函数用于统计标签的频率、通常范围,速度、车辆数的统计值等\n",
        "def get_feat1(y,feat,feat1,linkdata):\n",
        "\n",
        "    b=linkdata[(linkdata['time_of_r_f']<y)& (linkdata['time_of_r_f']>=y-10)]\n",
        "    #如果是状态，那么统计状态相关信息\n",
        "    if feat1 =='statu_of_r_f':\n",
        "        if feat =='mean':\n",
        "            #均值\n",
        "            return  np.mean(b['statu_of_r_f'])\n",
        "        elif feat =='max':\n",
        "            #label大于3的比例（为防止分母出现0，所以分母加1）\n",
        "            return  len(b[b['statu_of_r_f']>=3]) /  (len(b)+1)\n",
        "        elif feat =='std':\n",
        "            #方差\n",
        "            return  np.std((b['statu_of_r_f']))\n",
        "        else:\n",
        "            return  len(b[b['statu_of_r_f']==2])/ (len(b)+1)\n",
        "    #如果不是状态，而是如车辆数等的一些信息，那么提取一些统计值\n",
        "    else:\n",
        "        if len(b)>0:\n",
        "            if feat =='mean':\n",
        "                 #均值\n",
        "                return  np.mean(b[feat1])\n",
        "            elif feat =='max':\n",
        "                 #最大\n",
        "                return  max(b[feat1])\n",
        "            elif feat =='std':\n",
        "                 #方差\n",
        "                return  np.std(b[feat1])\n",
        "            else:\n",
        "                #最小\n",
        "                return  min(b[feat1])\n",
        "        else:\n",
        "            return -1"
      ]
    },
    {
      "cell_type": "code",
      "execution_count": null,
      "metadata": {
        "colab": {
          "base_uri": "https://localhost:8080/"
        },
        "id": "Lcww3Cu0Y1Hq",
        "outputId": "c57dc948-cad1-4ef1-c84f-7789d88dc460"
      },
      "outputs": [
        {
          "output_type": "stream",
          "name": "stderr",
          "text": [
            "100%|██████████| 12224/12224 [1:21:56<00:00,  2.49it/s]\n"
          ]
        }
      ],
      "source": [
        "testdatafeat1= pd.DataFrame()\n",
        "#每条link一一追溯\n",
        "for i in tqdm(havelink):\n",
        "    tmptest = train[train['link']==i]\n",
        "    \n",
        "    linktip= pd.DataFrame(columns = [\"otherlink\"])\n",
        "    linktip=linktip.append(pd.DataFrame({\"otherlink\":i},index = [0]))\n",
        "    if len(topo[topo['link']==i]['roundlink'] )>0:\n",
        "        roundlink = str(topo[topo['link']==i]['roundlink'].values[0]).split(',')\n",
        "        roundlink = list(map(int, roundlink))\n",
        "    linktip=linktip.append(pd.DataFrame({\"otherlink\":roundlink}))\n",
        "    count =1\n",
        "    #添加拓扑相邻的link\n",
        "    \n",
        "    for count in range(1,3):\n",
        "      lastlink=roundlink\n",
        "      roundlink=[]\n",
        "      #记录下一阶的link\n",
        "      for k in lastlink:\n",
        "          if len(topo[topo['link']==k]['roundlink'] )>0:\n",
        "              roundlink=roundlink+list(map(int, str(topo[topo['link']==k]['roundlink'].values[0]).split(',')))\n",
        "      #已经记录的link\n",
        "\n",
        "      alllink = list(linktip['otherlink'].unique())\n",
        "      linkall = alllink + roundlink\n",
        "      linkall=set(linkall)\n",
        "      linkall=list(linkall)\n",
        "      #不包含在已经记录的link里面的\n",
        "      roundlink = list(set(linkall)^set(alllink))\n",
        "      linkdata = data[data['link'].isin(roundlink)]\n",
        "      linktip=linktip.append(pd.DataFrame({\"otherlink\":roundlink}))\n",
        "      for feat in ['mean','max']:\n",
        "          for feat1 in ['statu_of_r_f','speed_of_r_f','num_car_of_r_f']:\n",
        "              tmptest['{}_{}_{}'.format(count,feat,feat1)]=list(map(lambda y:  get_feat1(y,feat,feat1,linkdata) if str(y)!='nan'   else 0 ,tmptest['current_slice_id']))\n",
        "              train.loc[((train['link'] == i)),'{}_{}_{}'.format(count,feat,feat1)] =  tmptest['{}_{}_{}'.format(count,feat,feat1)].values"
      ]
    },
    {
      "cell_type": "code",
      "execution_count": null,
      "metadata": {
        "colab": {
          "base_uri": "https://localhost:8080/"
        },
        "id": "f7Mu17oRZLCq",
        "outputId": "6650fe93-6ad8-433b-b49a-198befb13852"
      },
      "outputs": [
        {
          "output_type": "stream",
          "name": "stderr",
          "text": [
            "100%|██████████| 4/4 [09:58<00:00, 149.64s/it]\n"
          ]
        }
      ],
      "source": [
        "def get_feature(train):\n",
        "    #对近期时间片和历史同期时间片进行统计\n",
        "    for feat in tqdm(['speed','eta_speed','statu','num_car',]):\n",
        "        train['mean_1_5_rf_{}'.format(feat)]=(train['{}_of_r_f_1'.format(feat)] +train['{}_of_r_f_2'.format(feat)]+train['{}_of_r_f_3'.format(feat)]+train['{}_of_r_f_4'.format(feat)]+train['{}_of_r_f_5'.format(feat)])/5\n",
        "        train['mean_1_5_rf_{}'.format(feat)]=(train['{}_of_r_f_1'.format(feat)] +train['{}_of_r_f_2'.format(feat)]+train['{}_of_r_f_3'.format(feat)]+train['{}_of_r_f_4'.format(feat)]+train['{}_of_r_f_5'.format(feat)])/5\n",
        "        train['max_1_5_rf_{}'.format(feat)]=list(map(lambda x,y,z,h,n:   max([x,y,z,h,n])  if str(x)!='nan'   else 0 ,train['{}_of_r_f_1'.format(feat)],train['{}_of_r_f_2'.format(feat)],train['{}_of_r_f_3'.format(feat)],train['{}_of_r_f_4'.format(feat)],train['{}_of_r_f_5'.format(feat)]))\n",
        "        train['min_1_5_rf_{}'.format(feat)]=list(map(lambda x,y,z,h,n:   min([x,y,z,h,n])  if str(x)!='nan'   else 0 ,train['{}_of_r_f_1'.format(feat)],train['{}_of_r_f_2'.format(feat)],train['{}_of_r_f_3'.format(feat)],train['{}_of_r_f_4'.format(feat)],train['{}_of_r_f_5'.format(feat)]))\n",
        "        train['std_1_5_rf_{}'.format(feat)]=list(map(lambda x,y,z,h,n:   np.std([x,y,z,h,n])  if str(x)!='nan'   else 0 ,train['{}_of_r_f_1'.format(feat)],train['{}_of_r_f_2'.format(feat)],train['{}_of_r_f_3'.format(feat)],train['{}_of_r_f_4'.format(feat)],train['{}_of_r_f_5'.format(feat)]))\n",
        "        train['median_1_5_rf_{}'.format(feat)]=list(map(lambda x,y,z,h,n:   np.median([x,y,z,h,n])  if str(x)!='nan'   else 0 ,train['{}_of_r_f_1'.format(feat)],train['{}_of_r_f_2'.format(feat)],train['{}_of_r_f_3'.format(feat)],train['{}_of_r_f_4'.format(feat)],train['{}_of_r_f_5'.format(feat)]))\n",
        "\n",
        "        for  i in range(1,5):\n",
        "            train['mean_1_5_hf_{}_{}'.format(feat,i)]=list(map(lambda x,y,z,h,n:   np.mean([x,y,z,h,n])  if str(x)!='nan'   else 0 ,train['{}_of_h_f_{}_1'.format(feat,i)],train['{}_of_h_f_{}_2'.format(feat,i)],train['{}_of_h_f_{}_3'.format(feat,i)],train['{}_of_h_f_{}_4'.format(feat,i)],train['{}_of_h_f_{}_4'.format(feat,i)]))\n",
        "            train['max_1_5_hf_{}_{}'.format(feat,i)]=list(map(lambda x,y,z,h,n:   max([x,y,z,h,n])  if str(x)!='nan'   else 0 ,train['{}_of_h_f_{}_1'.format(feat,i)],train['{}_of_h_f_{}_2'.format(feat,i)],train['{}_of_h_f_{}_3'.format(feat,i)],train['{}_of_h_f_{}_4'.format(feat,i)],train['{}_of_h_f_{}_4'.format(feat,i)]))\n",
        "            train['min_1_5_hf_{}_{}'.format(feat,i)]=list(map(lambda x,y,z,h,n:   min([x,y,z,h,n])  if str(x)!='nan'   else 0 ,train['{}_of_h_f_{}_1'.format(feat,i)],train['{}_of_h_f_{}_2'.format(feat,i)],train['{}_of_h_f_{}_3'.format(feat,i)],train['{}_of_h_f_{}_4'.format(feat,i)],train['{}_of_h_f_{}_4'.format(feat,i)]))\n",
        "            train['std_1_5_hf_{}_{}'.format(feat,i)]=list(map(lambda x,y,z,h,n:   np.std([x,y,z,h,n])  if str(x)!='nan'   else 0 ,train['{}_of_h_f_{}_1'.format(feat,i)],train['{}_of_h_f_{}_2'.format(feat,i)],train['{}_of_h_f_{}_3'.format(feat,i)],train['{}_of_h_f_{}_4'.format(feat,i)],train['{}_of_h_f_{}_4'.format(feat,i)]))\n",
        "            train['median_1_5_hf_{}_{}'.format(feat,i)]=list(map(lambda x,y,z,h,n:   np.median([x,y,z,h,n])  if str(x)!='nan'   else 0 ,train['{}_of_h_f_{}_1'.format(feat,i)],train['{}_of_h_f_{}_2'.format(feat,i)],train['{}_of_h_f_{}_3'.format(feat,i)],train['{}_of_h_f_{}_4'.format(feat,i)],train['{}_of_h_f_{}_4'.format(feat,i)]))\n",
        "    return train\n",
        "train=get_feature(train)\n",
        "#连接道路物理特征\n",
        "train = train.merge(attr, on='link', how='left')"
      ]
    },
    {
      "cell_type": "code",
      "execution_count": null,
      "metadata": {
        "id": "S4rWOALQaAKc"
      },
      "outputs": [],
      "source": [
        "#标注出不参与训练的特征\n",
        "underfeat= ['time_of_h_f_1_1',\n",
        "       'time_of_h_f_1_2', 'time_of_h_f_1_3', 'time_of_h_f_1_4',\n",
        "       'time_of_h_f_1_5', 'time_of_h_f_2_1', 'time_of_h_f_2_2',\n",
        "       'time_of_h_f_2_3', 'time_of_h_f_2_4', 'time_of_h_f_2_5',\n",
        "       'time_of_h_f_3_1', 'time_of_h_f_3_2', 'time_of_h_f_3_3',\n",
        "       'time_of_h_f_3_4', 'time_of_h_f_3_5', 'time_of_h_f_4_1',\n",
        "       'time_of_h_f_4_2', 'time_of_h_f_4_3', 'time_of_h_f_4_4',\n",
        "       'time_of_h_f_4_5', 'time_of_r_f_1', 'time_of_r_f_2', 'time_of_r_f_3',\n",
        "       'time_of_r_f_4', 'time_of_r_f_5', 'day','label']\n",
        "#获取训练特征\n",
        "feature = train.columns.difference(underfeat)\n",
        "#划分训练集和验证集\n",
        "traindata = train[train['day']>=11]\n",
        "traindata.reset_index(inplace=True,drop=True)\n",
        "valid= train[(train['day']<=10) & (train['day']>=9) ]\n",
        "train['day']=train['day'].fillna(1)\n",
        "traindata['label'] = traindata['label'].apply(lambda x:3 if x>=3 else x)\n",
        "testa= train[train['day']==1 ]"
      ]
    },
    {
      "cell_type": "code",
      "execution_count": null,
      "metadata": {
        "id": "if7BSy72aCsK"
      },
      "outputs": [],
      "source": [
        "def get_model_type(train_x,train_y,valid_x,valid_y,m_type='lgb'):   \n",
        "    if m_type == 'lgb':\n",
        "        model = lgb.LGBMClassifier( num_leaves=2**6-1, reg_alpha=0.2, reg_lambda=0.2, objective='multiclass',\n",
        "                                max_depth=MAX_DEPTH, learning_rate=0.01, min_sum_hessian_in_leaf=3, random_state=2020,\n",
        "                                n_estimators=2500, colsample_bytree=0.75,metric= 'multi_error'\n",
        "                                )\n",
        "        model.fit(train_x, train_y, \n",
        "              eval_set=[(train_x, train_y),(valid_x, valid_y)], \n",
        "              early_stopping_rounds=100, verbose=100)      \n",
        "    elif m_type == 'xgb':\n",
        "        params = {'booster': 'gbtree',\n",
        "          'objective': 'multi:softmax', #多分类'multi:softmax'返回预测的类别(不是概率)，'multi:softprob'返回概率\n",
        "          'num_class': 3,\n",
        "          'eval_metric': 'merror', #二分类用’auc‘，多分类用'mlogloss'或'merror'\n",
        "          'max_depth': MAX_DEPTH,\n",
        "          'lambda': 15,\n",
        "          'subsample': 0.75,\n",
        "          'colsample_bytree': 0.75,\n",
        "          'min_child_weight': 1,\n",
        "          'eta': 0.01,\n",
        "          'seed': 0,\n",
        "          'nthread': 7,\n",
        "          'silent': 1,\n",
        "          'gamma': 0.01,\n",
        "           'num_boost_round':400}\n",
        "        model = XGBClassifier(**params)  \n",
        "       \n",
        "        model.fit(train_x, train_y, \n",
        "              eval_set=[(train_x, train_y),(valid_x, valid_y)], \n",
        "              early_stopping_rounds=100, verbose=100)   \n",
        "    \n",
        "    elif m_type == 'cat':\n",
        "        \n",
        "        model = CatBoostClassifier(\n",
        "            iterations=600,\n",
        "            od_type='Iter',\n",
        "            od_wait=100,\n",
        "            max_depth=MAX_DEPTH,\n",
        "            learning_rate=0.01,\n",
        "            l2_leaf_reg=9,\n",
        "            random_seed=1010,\n",
        "            metric_period=50,\n",
        "            fold_len_multiplier=1.1,\n",
        "            loss_function='MultiClass',\n",
        "            logging_level='Verbose'\n",
        "            \n",
        "            )\n",
        "        cat_attrs=['link','timestamp']\n",
        "        model.fit(train_x, train_y,cat_features=cat_attrs,\n",
        "              eval_set=[(train_x, train_y),(valid_x, valid_y)], \n",
        "              early_stopping_rounds=100, verbose=200)   \n",
        "\n",
        "    return model"
      ]
    },
    {
      "cell_type": "code",
      "execution_count": null,
      "metadata": {
        "id": "HlK14xRzaONL"
      },
      "outputs": [],
      "source": [
        "def f1Score(A,B,average='weighted'):\n",
        "    A.reset_index(drop=True,inplace=True)\n",
        "    B.reset_index(drop=True,inplace=True)\n",
        "    \n",
        "    return f1_score(A,B,average='weighted')\n",
        "def downmse(vali,yue):\n",
        "    vali['A']=vali['label']\n",
        "    vali['yue']=yue\n",
        "    vali.loc[(vali['label'] >=3), 'label'] =  3\n",
        "    vali.loc[(vali['yue'] >=3), 'label'] =  3\n",
        "    vali.loc[(vali['label'] ==1), 'is_close'] =  -1\n",
        "    vali.loc[(vali['label'] ==2), 'is_close'] =  0\n",
        "    vali.loc[(vali['label']>=3), 'is_close'] =  1\n",
        "    f1_1 = f1Score(vali[vali['is_close']==-1]['label'],vali[vali['is_close']==-1]['yue'],average='weighted')#验证集上的f1值\n",
        "    f1_2 = f1Score(vali[vali['is_close']==0]['label'],vali[vali['is_close']==0]['yue'],average='weighted')#验证集上的f1值\n",
        "    f1_3 = f1Score(vali[vali['is_close']==1]['label'],vali[vali['is_close']==1]['yue'],average='weighted')#验证集上的f1值\n",
        "    print(\"验证集上标签为1的f1值：\",f1_1)\n",
        "    print(\"验证集上标签为2的f1值：\",f1_2)\n",
        "    print(\"验证集上标签为3的f1值：\",f1_3)\n",
        "    f1 = f1_1 *0.2 + f1_2*0.2 + f1_3*0.6\n",
        "    print(\"验证集总分：\",f1)\n",
        "    vali['label']=vali['A']"
      ]
    },
    {
      "cell_type": "code",
      "execution_count": null,
      "metadata": {
        "id": "dYKcrt9fbYze"
      },
      "outputs": [],
      "source": [
        "def train_start(traindata,valid,testa,feature,index_cols,m_type='xgb',average='weighted'):\n",
        "    kf = KFold(n_splits=K_FOLD,shuffle=True,random_state=220)\n",
        "    j = 0\n",
        "    index_cols=['label']\n",
        "    #score用来存储验证集预测结果\n",
        "    #scoret用来存储预测结果\n",
        "    score = pd.DataFrame()\n",
        "    scoret = pd.DataFrame()\n",
        "    #在处理后，每个样本已经独立，可以进行k折交叉验证\n",
        "     #在处理后，每个样本已经独立，可以进行k折交叉验证\n",
        "    for train_index , test_index in kf.split(traindata):\n",
        "        print(\"************************\"+m_type+\":{}******************************\".format(j+1))\n",
        "        #v_train是本次训练的训练集\n",
        "        #v_test是本次训练的测试集\n",
        "        v_train =traindata.loc[train_index]\n",
        "        v_test =traindata.loc[test_index]\n",
        "        #通过关键字m_type调用相应模型\n",
        "        model = get_model_type(v_train[feature],v_train[index_cols],v_test[feature],v_test[index_cols],m_type=m_type)\n",
        "        #catboost模型的输出不太一样，需要单独处理\n",
        "        #这里在交叉验证时，我们没有着急融合，而是将每一次的结果存储起来\n",
        "        if m_type=='cat':\n",
        "            yue = model.predict(valid[feature])  \n",
        "            downmse(valid,yue)\n",
        "            score['pre_{}'.format(j)] = pd.DataFrame(yue)[0]\n",
        "            yue = model.predict(testa[feature]) \n",
        "            scoret['pre_{}'.format(j)] = pd.DataFrame(yue)[0]\n",
        "        else:\n",
        "            yue = model.predict(valid[feature])  \n",
        "            downmse(valid,yue)\n",
        "            score['pre_{}'.format(j)] = yue\n",
        "            yue = model.predict(testa[feature]) \n",
        "            scoret['pre_{}'.format(j)] = yue\n",
        "\n",
        "        j = j+1\n",
        "    return scoret,score"
      ]
    },
    {
      "cell_type": "code",
      "execution_count": null,
      "metadata": {
        "colab": {
          "base_uri": "https://localhost:8080/"
        },
        "id": "iG_0vU1xbh7z",
        "outputId": "7a1d8a46-610d-4090-9225-4d67ac9bdd0b"
      },
      "outputs": [
        {
          "output_type": "execute_result",
          "data": {
            "text/plain": [
              "array([1, 3, 2])"
            ]
          },
          "metadata": {},
          "execution_count": 28
        }
      ],
      "source": [
        "traindata.label.unique()"
      ]
    },
    {
      "cell_type": "code",
      "execution_count": null,
      "metadata": {
        "colab": {
          "base_uri": "https://localhost:8080/"
        },
        "id": "YHTreaDSbj95",
        "outputId": "43d0a138-9fbb-4460-e2b5-071b0ce231ea"
      },
      "outputs": [
        {
          "output_type": "stream",
          "name": "stdout",
          "text": [
            "************************xgb:1******************************\n",
            "[0]\tvalidation_0-merror:0.039493\tvalidation_1-merror:0.045624\n",
            "Multiple eval metrics have been passed: 'validation_1-merror' will be used for early stopping.\n",
            "\n",
            "Will train until validation_1-merror hasn't improved in 100 rounds.\n",
            "[99]\tvalidation_0-merror:0.014598\tvalidation_1-merror:0.035944\n",
            "验证集上标签为1的f1值： 0.9968787820880312\n",
            "验证集上标签为2的f1值： 0.4739336492890995\n",
            "验证集上标签为3的f1值： 0.5772357723577236\n",
            "验证集总分： 0.6405039496900603\n",
            "************************xgb:2******************************\n",
            "[0]\tvalidation_0-merror:0.039853\tvalidation_1-merror:0.045683\n",
            "Multiple eval metrics have been passed: 'validation_1-merror' will be used for early stopping.\n",
            "\n",
            "Will train until validation_1-merror hasn't improved in 100 rounds.\n",
            "[99]\tvalidation_0-merror:0.014565\tvalidation_1-merror:0.036593\n",
            "验证集上标签为1的f1值： 0.9967526265520534\n",
            "验证集上标签为2的f1值： 0.44878048780487806\n",
            "验证集上标签为3的f1值： 0.5772357723577236\n",
            "验证集总分： 0.6354480862860206\n",
            "************************xgb:3******************************\n",
            "[0]\tvalidation_0-merror:0.039722\tvalidation_1-merror:0.048811\n",
            "Multiple eval metrics have been passed: 'validation_1-merror' will be used for early stopping.\n",
            "\n",
            "Will train until validation_1-merror hasn't improved in 100 rounds.\n",
            "[99]\tvalidation_0-merror:0.014592\tvalidation_1-merror:0.036357\n",
            "验证集上标签为1的f1值： 0.9972620184654568\n",
            "验证集上标签为2的f1值： 0.4859813084112149\n",
            "验证集上标签为3的f1值： 0.5877551020408164\n",
            "验证集总分： 0.6493017265998242\n",
            "************************xgb:4******************************\n",
            "[0]\tvalidation_0-merror:0.039407\tvalidation_1-merror:0.048693\n",
            "Multiple eval metrics have been passed: 'validation_1-merror' will be used for early stopping.\n",
            "\n",
            "Will train until validation_1-merror hasn't improved in 100 rounds.\n",
            "[99]\tvalidation_0-merror:0.013969\tvalidation_1-merror:0.037538\n",
            "验证集上标签为1的f1值： 0.9971339405133431\n",
            "验证集上标签为2的f1值： 0.4739336492890995\n",
            "验证集上标签为3的f1值： 0.6086956521739131\n",
            "验证集总分： 0.6594309092648364\n",
            "************************xgb:5******************************\n",
            "[0]\tvalidation_0-merror:0.039302\tvalidation_1-merror:0.04704\n",
            "Multiple eval metrics have been passed: 'validation_1-merror' will be used for early stopping.\n",
            "\n",
            "Will train until validation_1-merror hasn't improved in 100 rounds.\n",
            "[99]\tvalidation_0-merror:0.014336\tvalidation_1-merror:0.037243\n",
            "验证集上标签为1的f1值： 0.996750971523221\n",
            "验证集上标签为2的f1值： 0.48837209302325585\n",
            "验证集上标签为3的f1值： 0.6072874493927126\n",
            "验证集总分： 0.6613970825449229\n",
            "************************xgb:6******************************\n",
            "[0]\tvalidation_0-merror:0.039827\tvalidation_1-merror:0.047984\n",
            "Multiple eval metrics have been passed: 'validation_1-merror' will be used for early stopping.\n",
            "\n",
            "Will train until validation_1-merror hasn't improved in 100 rounds.\n",
            "[99]\tvalidation_0-merror:0.014585\tvalidation_1-merror:0.038187\n",
            "验证集上标签为1的f1值： 0.9972623670974724\n",
            "验证集上标签为2的f1值： 0.4728132387706856\n",
            "验证集上标签为3的f1值： 0.6048387096774194\n",
            "验证集总分： 0.6569183469800832\n",
            "************************xgb:7******************************\n",
            "[0]\tvalidation_0-merror:0.039198\tvalidation_1-merror:0.048221\n",
            "Multiple eval metrics have been passed: 'validation_1-merror' will be used for early stopping.\n",
            "\n",
            "Will train until validation_1-merror hasn't improved in 100 rounds.\n",
            "[99]\tvalidation_0-merror:0.014572\tvalidation_1-merror:0.037065\n",
            "验证集上标签为1的f1值： 0.9970696904064211\n",
            "验证集上标签为2的f1值： 0.47058823529411764\n",
            "验证集上标签为3的f1值： 0.5853658536585366\n",
            "验证集总分： 0.6447510973352297\n",
            "************************xgb:8******************************\n",
            "[0]\tvalidation_0-merror:0.039027\tvalidation_1-merror:0.048518\n",
            "Multiple eval metrics have been passed: 'validation_1-merror' will be used for early stopping.\n",
            "\n",
            "Will train until validation_1-merror hasn't improved in 100 rounds.\n",
            "[99]\tvalidation_0-merror:0.014139\tvalidation_1-merror:0.038602\n",
            "验证集上标签为1的f1值： 0.9968799745304043\n",
            "验证集上标签为2的f1值： 0.49302325581395345\n",
            "验证集上标签为3的f1值： 0.5593220338983051\n",
            "验证集总分： 0.6335738664078547\n",
            "************************xgb:9******************************\n",
            "[0]\tvalidation_0-merror:0.039433\tvalidation_1-merror:0.047987\n",
            "Multiple eval metrics have been passed: 'validation_1-merror' will be used for early stopping.\n",
            "\n",
            "Will train until validation_1-merror hasn't improved in 100 rounds.\n",
            "[99]\tvalidation_0-merror:0.014244\tvalidation_1-merror:0.038602\n",
            "验证集上标签为1的f1值： 0.9971350353345642\n",
            "验证集上标签为2的f1值： 0.437956204379562\n",
            "验证集上标签为3的f1值： 0.6024096385542169\n",
            "验证集总分： 0.6484640310753553\n",
            "************************xgb:10******************************\n",
            "[0]\tvalidation_0-merror:0.039637\tvalidation_1-merror:0.046512\n",
            "Multiple eval metrics have been passed: 'validation_1-merror' will be used for early stopping.\n",
            "\n",
            "Will train until validation_1-merror hasn't improved in 100 rounds.\n",
            "[99]\tvalidation_0-merror:0.014152\tvalidation_1-merror:0.036713\n",
            "验证集上标签为1的f1值： 0.9970711829873933\n",
            "验证集上标签为2的f1值： 0.4519230769230769\n",
            "验证集上标签为3的f1值： 0.5702479338842975\n",
            "验证集总分： 0.6319476123126726\n",
            "验证集上标签为1的f1值： 0.9948239504121669\n",
            "验证集上标签为2的f1值： 0.5804988662131519\n",
            "验证集上标签为3的f1值： 0.7133333333333333\n",
            "验证集总分： 0.7430645633250637\n"
          ]
        }
      ],
      "source": [
        "index_cols = ['label']\n",
        "#调用xgboost\n",
        "xgb_scoret,xgb_score = train_start(traindata,valid,testa,feature,index_cols,m_type='xgb',average='weighted')\n",
        "#xgb验证集结果融合\n",
        "xgb_score['predict']=xgb_score.max(axis=1)\n",
        "#xgb线下验证\n",
        "downmse(valid,xgb_score['predict'].values)"
      ]
    },
    {
      "cell_type": "code",
      "execution_count": null,
      "metadata": {
        "colab": {
          "base_uri": "https://localhost:8080/"
        },
        "id": "HOgb5nzWbnBq",
        "outputId": "5b39b05a-5544-4c62-e096-c743a573e4e3"
      },
      "outputs": [
        {
          "output_type": "stream",
          "name": "stdout",
          "text": [
            "************************cat:1******************************\n"
          ]
        },
        {
          "output_type": "stream",
          "name": "stderr",
          "text": [
            "Warning: Overfitting detector is active, thus evaluation metric is calculated on every iteration. 'metric_period' is ignored for evaluation metric.\n"
          ]
        },
        {
          "output_type": "stream",
          "name": "stdout",
          "text": [
            "0:\tlearn: 1.0812012\ttest: 1.0812012\ttest1: 1.0811713\tbest: 1.0811713 (0)\ttotal: 2.41s\tremaining: 24m 1s\n",
            "200:\tlearn: 0.2125638\ttest: 0.2125634\ttest1: 0.2109498\tbest: 0.2109498 (200)\ttotal: 7m 18s\tremaining: 14m 29s\n",
            "400:\tlearn: 0.1352297\ttest: 0.1264822\ttest1: 0.1317394\tbest: 0.1317394 (400)\ttotal: 14m 19s\tremaining: 7m 6s\n",
            "599:\tlearn: 0.1235403\ttest: 0.1094624\ttest1: 0.1198855\tbest: 0.1198855 (599)\ttotal: 21m 24s\tremaining: 0us\n",
            "\n",
            "bestTest = 0.1198855318\n",
            "bestIteration = 599\n",
            "\n",
            "验证集上标签为1的f1值： 0.4986622499681488\n",
            "验证集上标签为2的f1值： 0.26107226107226106\n",
            "验证集上标签为3的f1值： 0.21733821733821734\n",
            "验证集总分： 0.28234983261101243\n",
            "************************cat:2******************************\n"
          ]
        },
        {
          "output_type": "stream",
          "name": "stderr",
          "text": [
            "Warning: Overfitting detector is active, thus evaluation metric is calculated on every iteration. 'metric_period' is ignored for evaluation metric.\n"
          ]
        },
        {
          "output_type": "stream",
          "name": "stdout",
          "text": [
            "0:\tlearn: 1.0811961\ttest: 1.0811961\ttest1: 1.0811568\tbest: 1.0811568 (0)\ttotal: 2.35s\tremaining: 23m 25s\n",
            "200:\tlearn: 0.2121217\ttest: 0.2121205\ttest1: 0.2116101\tbest: 0.2116101 (200)\ttotal: 7m 16s\tremaining: 14m 25s\n",
            "400:\tlearn: 0.1352448\ttest: 0.1277836\ttest1: 0.1329875\tbest: 0.1329875 (400)\ttotal: 14m 20s\tremaining: 7m 6s\n",
            "599:\tlearn: 0.1235076\ttest: 0.1107324\ttest1: 0.1207268\tbest: 0.1207268 (599)\ttotal: 21m 23s\tremaining: 0us\n",
            "\n",
            "bestTest = 0.1207268316\n",
            "bestIteration = 599\n",
            "\n",
            "验证集上标签为1的f1值： 0.49853465851172274\n",
            "验证集上标签为2的f1值： 0.2587412587412587\n",
            "验证集上标签为3的f1值： 0.21728395061728392\n",
            "验证集总分： 0.28182555382096663\n",
            "************************cat:3******************************\n"
          ]
        },
        {
          "output_type": "stream",
          "name": "stderr",
          "text": [
            "Warning: Overfitting detector is active, thus evaluation metric is calculated on every iteration. 'metric_period' is ignored for evaluation metric.\n"
          ]
        },
        {
          "output_type": "stream",
          "name": "stdout",
          "text": [
            "0:\tlearn: 1.0811907\ttest: 1.0811907\ttest1: 1.0812843\tbest: 1.0812843 (0)\ttotal: 2.23s\tremaining: 22m 19s\n",
            "200:\tlearn: 0.2120202\ttest: 0.2120195\ttest1: 0.2148091\tbest: 0.2148091 (200)\ttotal: 7m 9s\tremaining: 14m 12s\n",
            "400:\tlearn: 0.1347308\ttest: 0.1266919\ttest1: 0.1337446\tbest: 0.1337446 (400)\ttotal: 14m 4s\tremaining: 6m 59s\n",
            "599:\tlearn: 0.1231859\ttest: 0.1097947\ttest1: 0.1208780\tbest: 0.1208780 (599)\ttotal: 21m 11s\tremaining: 0us\n",
            "\n",
            "bestTest = 0.1208780203\n",
            "bestIteration = 599\n",
            "\n",
            "验证集上标签为1的f1值： 0.4985981903912324\n",
            "验证集上标签为2的f1值： 0.26651480637813213\n",
            "验证集上标签为3的f1值： 0.22057001239157373\n",
            "验证集总分： 0.28536460678881714\n",
            "************************cat:4******************************\n"
          ]
        },
        {
          "output_type": "stream",
          "name": "stderr",
          "text": [
            "Warning: Overfitting detector is active, thus evaluation metric is calculated on every iteration. 'metric_period' is ignored for evaluation metric.\n"
          ]
        },
        {
          "output_type": "stream",
          "name": "stdout",
          "text": [
            "0:\tlearn: 1.0811918\ttest: 1.0811918\ttest1: 1.0811890\tbest: 1.0811890 (0)\ttotal: 2.25s\tremaining: 22m 31s\n",
            "200:\tlearn: 0.2118954\ttest: 0.2118945\ttest1: 0.2134480\tbest: 0.2134480 (200)\ttotal: 7m 16s\tremaining: 14m 26s\n",
            "400:\tlearn: 0.1346081\ttest: 0.1263521\ttest1: 0.1356393\tbest: 0.1356393 (400)\ttotal: 14m 20s\tremaining: 7m 7s\n",
            "599:\tlearn: 0.1229244\ttest: 0.1094180\ttest1: 0.1237709\tbest: 0.1237709 (599)\ttotal: 21m 35s\tremaining: 0us\n",
            "\n",
            "bestTest = 0.1237708721\n",
            "bestIteration = 599\n",
            "\n",
            "验证集上标签为1的f1值： 0.4986303115244951\n",
            "验证集上标签为2的f1值： 0.2587412587412587\n",
            "验证集上标签为3的f1值： 0.2340425531914894\n",
            "验证集总分： 0.2918998459680444\n",
            "************************cat:5******************************\n"
          ]
        },
        {
          "output_type": "stream",
          "name": "stderr",
          "text": [
            "Warning: Overfitting detector is active, thus evaluation metric is calculated on every iteration. 'metric_period' is ignored for evaluation metric.\n"
          ]
        },
        {
          "output_type": "stream",
          "name": "stdout",
          "text": [
            "0:\tlearn: 1.0812325\ttest: 1.0812325\ttest1: 1.0812308\tbest: 1.0812308 (0)\ttotal: 2.29s\tremaining: 22m 50s\n",
            "200:\tlearn: 0.2120134\ttest: 0.2120127\ttest1: 0.2136586\tbest: 0.2136586 (200)\ttotal: 7m 18s\tremaining: 14m 29s\n",
            "400:\tlearn: 0.1347816\ttest: 0.1266193\ttest1: 0.1348657\tbest: 0.1348657 (400)\ttotal: 14m 28s\tremaining: 7m 10s\n",
            "599:\tlearn: 0.1232052\ttest: 0.1099319\ttest1: 0.1232581\tbest: 0.1232581 (599)\ttotal: 21m 48s\tremaining: 0us\n",
            "\n",
            "bestTest = 0.1232581162\n",
            "bestIteration = 599\n",
            "\n",
            "验证集上标签为1的f1值： 0.4984703632887189\n",
            "验证集上标签为2的f1值： 0.2654462242562929\n",
            "验证集上标签为3的f1值： 0.21809169764560096\n",
            "验证集总分： 0.2836383360963629\n",
            "************************cat:6******************************\n"
          ]
        },
        {
          "output_type": "stream",
          "name": "stderr",
          "text": [
            "Warning: Overfitting detector is active, thus evaluation metric is calculated on every iteration. 'metric_period' is ignored for evaluation metric.\n"
          ]
        },
        {
          "output_type": "stream",
          "name": "stdout",
          "text": [
            "0:\tlearn: 1.0811976\ttest: 1.0811976\ttest1: 1.0811519\tbest: 1.0811519 (0)\ttotal: 2.28s\tremaining: 22m 47s\n",
            "200:\tlearn: 0.2123242\ttest: 0.2123239\ttest1: 0.2121066\tbest: 0.2121066 (200)\ttotal: 7m 21s\tremaining: 14m 36s\n",
            "400:\tlearn: 0.1353711\ttest: 0.1278327\ttest1: 0.1339325\tbest: 0.1339325 (400)\ttotal: 14m 35s\tremaining: 7m 14s\n",
            "599:\tlearn: 0.1234903\ttest: 0.1104913\ttest1: 0.1214888\tbest: 0.1214888 (599)\ttotal: 21m 49s\tremaining: 0us\n",
            "\n",
            "bestTest = 0.1214887839\n",
            "bestIteration = 599\n",
            "\n",
            "验证集上标签为1的f1值： 0.49847075315407163\n",
            "验证集上标签为2的f1值： 0.2686230248306998\n",
            "验证集上标签为3的f1值： 0.22053231939163498\n",
            "验证集总分： 0.28573814723193525\n",
            "************************cat:7******************************\n"
          ]
        },
        {
          "output_type": "stream",
          "name": "stderr",
          "text": [
            "Warning: Overfitting detector is active, thus evaluation metric is calculated on every iteration. 'metric_period' is ignored for evaluation metric.\n"
          ]
        },
        {
          "output_type": "stream",
          "name": "stdout",
          "text": [
            "0:\tlearn: 1.0811938\ttest: 1.0811938\ttest1: 1.0811861\tbest: 1.0811861 (0)\ttotal: 2.25s\tremaining: 22m 26s\n",
            "200:\tlearn: 0.2119461\ttest: 0.2119449\ttest1: 0.2132763\tbest: 0.2132763 (200)\ttotal: 7m 20s\tremaining: 14m 33s\n",
            "400:\tlearn: 0.1343523\ttest: 0.1255254\ttest1: 0.1350456\tbest: 0.1350456 (400)\ttotal: 14m 23s\tremaining: 7m 8s\n",
            "599:\tlearn: 0.1228275\ttest: 0.1090886\ttest1: 0.1241853\tbest: 0.1241853 (599)\ttotal: 21m 31s\tremaining: 0us\n",
            "\n",
            "bestTest = 0.1241852589\n",
            "bestIteration = 599\n",
            "\n",
            "验证集上标签为1的f1值： 0.4983746574032762\n",
            "验证集上标签为2的f1值： 0.25925925925925924\n",
            "验证集上标签为3的f1值： 0.22140221402214022\n",
            "验证集总分： 0.28436811174579124\n",
            "************************cat:8******************************\n"
          ]
        },
        {
          "output_type": "stream",
          "name": "stderr",
          "text": [
            "Warning: Overfitting detector is active, thus evaluation metric is calculated on every iteration. 'metric_period' is ignored for evaluation metric.\n"
          ]
        },
        {
          "output_type": "stream",
          "name": "stdout",
          "text": [
            "0:\tlearn: 1.0813099\ttest: 1.0813099\ttest1: 1.0814026\tbest: 1.0814026 (0)\ttotal: 2.27s\tremaining: 22m 38s\n",
            "200:\tlearn: 0.2115138\ttest: 0.2115115\ttest1: 0.2170678\tbest: 0.2170678 (200)\ttotal: 7m 17s\tremaining: 14m 27s\n",
            "400:\tlearn: 0.1345292\ttest: 0.1263669\ttest1: 0.1381157\tbest: 0.1381157 (400)\ttotal: 14m 13s\tremaining: 7m 3s\n",
            "599:\tlearn: 0.1229055\ttest: 0.1098869\ttest1: 0.1256649\tbest: 0.1256649 (599)\ttotal: 21m 16s\tremaining: 0us\n",
            "\n",
            "bestTest = 0.1256648647\n",
            "bestIteration = 599\n",
            "\n",
            "验证集上标签为1的f1值： 0.49869435067830076\n",
            "验证集上标签为2的f1值： 0.2574712643678161\n",
            "验证集上标签为3的f1值： 0.21799746514575413\n",
            "验证集总分： 0.2820316020966759\n",
            "************************cat:9******************************\n"
          ]
        },
        {
          "output_type": "stream",
          "name": "stderr",
          "text": [
            "Warning: Overfitting detector is active, thus evaluation metric is calculated on every iteration. 'metric_period' is ignored for evaluation metric.\n"
          ]
        },
        {
          "output_type": "stream",
          "name": "stdout",
          "text": [
            "0:\tlearn: 1.0813583\ttest: 1.0813583\ttest1: 1.0813891\tbest: 1.0813891 (0)\ttotal: 2.24s\tremaining: 22m 22s\n",
            "200:\tlearn: 0.2115910\ttest: 0.2115889\ttest1: 0.2156689\tbest: 0.2156689 (200)\ttotal: 7m 18s\tremaining: 14m 30s\n",
            "400:\tlearn: 0.1344365\ttest: 0.1256384\ttest1: 0.1362079\tbest: 0.1362079 (400)\ttotal: 14m 14s\tremaining: 7m 4s\n",
            "599:\tlearn: 0.1228829\ttest: 0.1087010\ttest1: 0.1241210\tbest: 0.1241210 (599)\ttotal: 21m 23s\tremaining: 0us\n",
            "\n",
            "bestTest = 0.1241209952\n",
            "bestIteration = 599\n",
            "\n",
            "验证集上标签为1的f1值： 0.4986303115244951\n",
            "验证集上标签为2的f1值： 0.26218097447795824\n",
            "验证集上标签为3的f1值： 0.22141119221411196\n",
            "验证集总分： 0.28500897252895785\n",
            "************************cat:10******************************\n"
          ]
        },
        {
          "output_type": "stream",
          "name": "stderr",
          "text": [
            "Warning: Overfitting detector is active, thus evaluation metric is calculated on every iteration. 'metric_period' is ignored for evaluation metric.\n"
          ]
        },
        {
          "output_type": "stream",
          "name": "stdout",
          "text": [
            "0:\tlearn: 1.0812191\ttest: 1.0812191\ttest1: 1.0811865\tbest: 1.0811865 (0)\ttotal: 2.23s\tremaining: 22m 15s\n",
            "200:\tlearn: 0.2117345\ttest: 0.2117325\ttest1: 0.2131077\tbest: 0.2131077 (200)\ttotal: 7m 7s\tremaining: 14m 9s\n",
            "400:\tlearn: 0.1341108\ttest: 0.1252433\ttest1: 0.1361149\tbest: 0.1361149 (400)\ttotal: 13m 58s\tremaining: 6m 56s\n",
            "599:\tlearn: 0.1227450\ttest: 0.1091145\ttest1: 0.1260866\tbest: 0.1260866 (599)\ttotal: 21m 6s\tremaining: 0us\n",
            "\n",
            "bestTest = 0.1260865721\n",
            "bestIteration = 599\n",
            "\n",
            "验证集上标签为1的f1值： 0.498534098151689\n",
            "验证集上标签为2的f1值： 0.25925925925925924\n",
            "验证集上标签为3的f1值： 0.21978021978021978\n",
            "验证集总分： 0.28342680335032155\n",
            "验证集上标签为1的f1值： 0.4980219499744768\n",
            "验证集上标签为2的f1值： 0.27546296296296297\n",
            "验证集上标签为3的f1值： 0.24080267558528431\n",
            "验证集总分： 0.29917858793865854\n"
          ]
        }
      ],
      "source": [
        "#调用catboost\n",
        "cat_scoret,cat_score = train_start(traindata,valid,testa,feature,index_cols,m_type='cat',average='micro')\n",
        "#验证集结果融合\n",
        "cat_score['predict']=cat_score.max(axis=1)\n",
        "#线下验证\n",
        "downmse(valid,cat_score['predict'].values)"
      ]
    },
    {
      "cell_type": "code",
      "execution_count": null,
      "metadata": {
        "colab": {
          "base_uri": "https://localhost:8080/"
        },
        "id": "RbGeu5ribqOW",
        "outputId": "20ef5ff4-eddd-471c-e29e-6142fd86af73"
      },
      "outputs": [
        {
          "output_type": "stream",
          "name": "stdout",
          "text": [
            "************************lgb:1******************************\n",
            "Training until validation scores don't improve for 100 rounds.\n",
            "[100]\ttraining's multi_error: 0.0527137\tvalid_1's multi_error: 0.0514077\n",
            "[200]\ttraining's multi_error: 0.0403714\tvalid_1's multi_error: 0.0431447\n",
            "[300]\ttraining's multi_error: 0.0355775\tvalid_1's multi_error: 0.041433\n",
            "Early stopping, best iteration is:\n",
            "[277]\ttraining's multi_error: 0.0363382\tvalid_1's multi_error: 0.0410199\n",
            "验证集上标签为1的f1值： 0.4992052895924725\n",
            "验证集上标签为2的f1值： 0.19506172839506172\n",
            "验证集上标签为3的f1值： 0.17758369723435222\n",
            "验证集总分： 0.2454036219381182\n",
            "************************lgb:2******************************\n",
            "Training until validation scores don't improve for 100 rounds.\n",
            "[100]\ttraining's multi_error: 0.0525694\tvalid_1's multi_error: 0.052293\n",
            "[200]\ttraining's multi_error: 0.0401354\tvalid_1's multi_error: 0.04403\n",
            "[300]\ttraining's multi_error: 0.0354004\tvalid_1's multi_error: 0.0424364\n",
            "[400]\ttraining's multi_error: 0.0327969\tvalid_1's multi_error: 0.0408428\n",
            "[500]\ttraining's multi_error: 0.030718\tvalid_1's multi_error: 0.0401346\n",
            "[600]\ttraining's multi_error: 0.0290194\tvalid_1's multi_error: 0.0397214\n",
            "[700]\ttraining's multi_error: 0.0275504\tvalid_1's multi_error: 0.0390132\n",
            "[800]\ttraining's multi_error: 0.0262191\tvalid_1's multi_error: 0.0390722\n",
            "[900]\ttraining's multi_error: 0.0248354\tvalid_1's multi_error: 0.038482\n",
            "[1000]\ttraining's multi_error: 0.0234779\tvalid_1's multi_error: 0.0380098\n",
            "[1100]\ttraining's multi_error: 0.0222122\tvalid_1's multi_error: 0.0375966\n",
            "[1200]\ttraining's multi_error: 0.0207563\tvalid_1's multi_error: 0.0374196\n",
            "[1300]\ttraining's multi_error: 0.019543\tvalid_1's multi_error: 0.0365343\n",
            "[1400]\ttraining's multi_error: 0.0183954\tvalid_1's multi_error: 0.0361801\n",
            "[1500]\ttraining's multi_error: 0.0174641\tvalid_1's multi_error: 0.035885\n",
            "[1600]\ttraining's multi_error: 0.0163493\tvalid_1's multi_error: 0.0355899\n",
            "[1700]\ttraining's multi_error: 0.0153393\tvalid_1's multi_error: 0.0349997\n",
            "[1800]\ttraining's multi_error: 0.0142703\tvalid_1's multi_error: 0.0349407\n",
            "[1900]\ttraining's multi_error: 0.0132211\tvalid_1's multi_error: 0.0344685\n",
            "[2000]\ttraining's multi_error: 0.0125128\tvalid_1's multi_error: 0.0342324\n",
            "[2100]\ttraining's multi_error: 0.0115422\tvalid_1's multi_error: 0.0337012\n",
            "[2200]\ttraining's multi_error: 0.0107487\tvalid_1's multi_error: 0.0337012\n",
            "[2300]\ttraining's multi_error: 0.0100404\tvalid_1's multi_error: 0.0335242\n",
            "[2400]\ttraining's multi_error: 0.00943706\tvalid_1's multi_error: 0.033052\n",
            "[2500]\ttraining's multi_error: 0.00872878\tvalid_1's multi_error: 0.032934\n",
            "Did not meet early stopping. Best iteration is:\n",
            "[2498]\ttraining's multi_error: 0.00872878\tvalid_1's multi_error: 0.032934\n",
            "验证集上标签为1的f1值： 0.4988224810642225\n",
            "验证集上标签为2的f1值： 0.23529411764705882\n",
            "验证集上标签为3的f1值： 0.19863945578231293\n",
            "验证集总分： 0.266006993211644\n",
            "************************lgb:3******************************\n",
            "Training until validation scores don't improve for 100 rounds.\n",
            "[100]\ttraining's multi_error: 0.0524514\tvalid_1's multi_error: 0.0544768\n",
            "[200]\ttraining's multi_error: 0.0400698\tvalid_1's multi_error: 0.0442661\n",
            "[300]\ttraining's multi_error: 0.0357218\tvalid_1's multi_error: 0.0420233\n",
            "[400]\ttraining's multi_error: 0.0329149\tvalid_1's multi_error: 0.0405477\n",
            "[500]\ttraining's multi_error: 0.0305671\tvalid_1's multi_error: 0.0405477\n",
            "[600]\ttraining's multi_error: 0.0288424\tvalid_1's multi_error: 0.0403116\n",
            "[700]\ttraining's multi_error: 0.0272553\tvalid_1's multi_error: 0.0399575\n",
            "[800]\ttraining's multi_error: 0.0257338\tvalid_1's multi_error: 0.0395444\n",
            "[900]\ttraining's multi_error: 0.0245206\tvalid_1's multi_error: 0.0388361\n",
            "[1000]\ttraining's multi_error: 0.0232746\tvalid_1's multi_error: 0.0388361\n",
            "[1100]\ttraining's multi_error: 0.0220154\tvalid_1's multi_error: 0.0383639\n",
            "[1200]\ttraining's multi_error: 0.0209071\tvalid_1's multi_error: 0.0381869\n",
            "[1300]\ttraining's multi_error: 0.0197595\tvalid_1's multi_error: 0.0373015\n",
            "[1400]\ttraining's multi_error: 0.0185069\tvalid_1's multi_error: 0.0368294\n",
            "[1500]\ttraining's multi_error: 0.0173789\tvalid_1's multi_error: 0.0362392\n",
            "[1600]\ttraining's multi_error: 0.0163755\tvalid_1's multi_error: 0.035944\n",
            "[1700]\ttraining's multi_error: 0.0153196\tvalid_1's multi_error: 0.035708\n",
            "[1800]\ttraining's multi_error: 0.01429\tvalid_1's multi_error: 0.0355309\n",
            "[1900]\ttraining's multi_error: 0.0133129\tvalid_1's multi_error: 0.0354129\n",
            "[2000]\ttraining's multi_error: 0.0123882\tvalid_1's multi_error: 0.0352948\n",
            "Early stopping, best iteration is:\n",
            "[1936]\ttraining's multi_error: 0.0130178\tvalid_1's multi_error: 0.0351177\n",
            "验证集上标签为1的f1值： 0.49856770004456047\n",
            "验证集上标签为2的f1值： 0.23132530120481928\n",
            "验证集上标签为3的f1值： 0.19812583668005357\n",
            "验证集总分： 0.2648541022579081\n",
            "************************lgb:4******************************\n",
            "Training until validation scores don't improve for 100 rounds.\n",
            "[100]\ttraining's multi_error: 0.0524842\tvalid_1's multi_error: 0.0538866\n",
            "[200]\ttraining's multi_error: 0.0399124\tvalid_1's multi_error: 0.0459187\n",
            "[300]\ttraining's multi_error: 0.0353283\tvalid_1's multi_error: 0.0436759\n",
            "[400]\ttraining's multi_error: 0.0327575\tvalid_1's multi_error: 0.0423774\n",
            "[500]\ttraining's multi_error: 0.0307442\tvalid_1's multi_error: 0.0419052\n",
            "[600]\ttraining's multi_error: 0.0291178\tvalid_1's multi_error: 0.041374\n",
            "[700]\ttraining's multi_error: 0.0276291\tvalid_1's multi_error: 0.0407838\n",
            "[800]\ttraining's multi_error: 0.0261339\tvalid_1's multi_error: 0.0400755\n",
            "[900]\ttraining's multi_error: 0.024678\tvalid_1's multi_error: 0.0395444\n",
            "[1000]\ttraining's multi_error: 0.0232418\tvalid_1's multi_error: 0.0392492\n",
            "[1100]\ttraining's multi_error: 0.0220876\tvalid_1's multi_error: 0.038482\n",
            "[1200]\ttraining's multi_error: 0.0205923\tvalid_1's multi_error: 0.0379508\n",
            "[1300]\ttraining's multi_error: 0.0195234\tvalid_1's multi_error: 0.0375966\n",
            "[1400]\ttraining's multi_error: 0.0184413\tvalid_1's multi_error: 0.0370064\n",
            "[1500]\ttraining's multi_error: 0.0172936\tvalid_1's multi_error: 0.0369474\n",
            "[1600]\ttraining's multi_error: 0.016205\tvalid_1's multi_error: 0.0367703\n",
            "Early stopping, best iteration is:\n",
            "[1509]\ttraining's multi_error: 0.0171559\tvalid_1's multi_error: 0.0367703\n",
            "验证集上标签为1的f1值： 0.49853503184713377\n",
            "验证集上标签为2的f1值： 0.24355971896955506\n",
            "验证集上标签为3的f1值： 0.20553359683794467\n",
            "验证集总分： 0.2717391082661046\n",
            "************************lgb:5******************************\n",
            "Training until validation scores don't improve for 100 rounds.\n",
            "[100]\ttraining's multi_error: 0.0525432\tvalid_1's multi_error: 0.0530012\n",
            "[200]\ttraining's multi_error: 0.0401222\tvalid_1's multi_error: 0.0448563\n",
            "[300]\ttraining's multi_error: 0.0354726\tvalid_1's multi_error: 0.0432037\n",
            "[400]\ttraining's multi_error: 0.0328953\tvalid_1's multi_error: 0.0419052\n",
            "[500]\ttraining's multi_error: 0.0306786\tvalid_1's multi_error: 0.0411379\n",
            "[600]\ttraining's multi_error: 0.0288489\tvalid_1's multi_error: 0.0403116\n",
            "[700]\ttraining's multi_error: 0.0273602\tvalid_1's multi_error: 0.0397804\n",
            "[800]\ttraining's multi_error: 0.0260618\tvalid_1's multi_error: 0.0391312\n",
            "[900]\ttraining's multi_error: 0.0244747\tvalid_1's multi_error: 0.0387771\n",
            "[1000]\ttraining's multi_error: 0.0229336\tvalid_1's multi_error: 0.0381278\n",
            "[1100]\ttraining's multi_error: 0.0215892\tvalid_1's multi_error: 0.0380098\n",
            "[1200]\ttraining's multi_error: 0.0203562\tvalid_1's multi_error: 0.0377147\n",
            "[1300]\ttraining's multi_error: 0.0190643\tvalid_1's multi_error: 0.0374786\n",
            "[1400]\ttraining's multi_error: 0.018074\tvalid_1's multi_error: 0.0371245\n",
            "[1500]\ttraining's multi_error: 0.0169198\tvalid_1's multi_error: 0.0367703\n",
            "[1600]\ttraining's multi_error: 0.015923\tvalid_1's multi_error: 0.0366523\n",
            "[1700]\ttraining's multi_error: 0.0146507\tvalid_1's multi_error: 0.0362392\n",
            "[1800]\ttraining's multi_error: 0.0136998\tvalid_1's multi_error: 0.035826\n",
            "[1900]\ttraining's multi_error: 0.0127489\tvalid_1's multi_error: 0.035944\n",
            "[2000]\ttraining's multi_error: 0.0119488\tvalid_1's multi_error: 0.0355309\n",
            "[2100]\ttraining's multi_error: 0.0111028\tvalid_1's multi_error: 0.0354719\n",
            "Early stopping, best iteration is:\n",
            "[2014]\ttraining's multi_error: 0.0119029\tvalid_1's multi_error: 0.0354129\n",
            "验证集上标签为1的f1值： 0.49856697025667157\n",
            "验证集上标签为2的f1值： 0.23021582733812948\n",
            "验证集上标签为3的f1值： 0.20752269779507135\n",
            "验证集总分： 0.270270178196003\n",
            "************************lgb:6******************************\n",
            "Training until validation scores don't improve for 100 rounds.\n",
            "[100]\ttraining's multi_error: 0.0525826\tvalid_1's multi_error: 0.0530012\n",
            "[200]\ttraining's multi_error: 0.040037\tvalid_1's multi_error: 0.0444431\n",
            "[300]\ttraining's multi_error: 0.0352693\tvalid_1's multi_error: 0.0429676\n",
            "[400]\ttraining's multi_error: 0.0328887\tvalid_1's multi_error: 0.0419642\n",
            "[500]\ttraining's multi_error: 0.0308229\tvalid_1's multi_error: 0.0408428\n",
            "[600]\ttraining's multi_error: 0.0288752\tvalid_1's multi_error: 0.0405477\n",
            "[700]\ttraining's multi_error: 0.0276488\tvalid_1's multi_error: 0.0400755\n",
            "[800]\ttraining's multi_error: 0.0262716\tvalid_1's multi_error: 0.0401936\n",
            "Early stopping, best iteration is:\n",
            "[735]\ttraining's multi_error: 0.0270914\tvalid_1's multi_error: 0.0399575\n",
            "验证集上标签为1的f1值： 0.49869451697127937\n",
            "验证集上标签为2的f1值： 0.2296650717703349\n",
            "验证集上标签为3的f1值： 0.20752269779507135\n",
            "验证集总分： 0.2701855364253657\n",
            "************************lgb:7******************************\n",
            "Training until validation scores don't improve for 100 rounds.\n",
            "[100]\ttraining's multi_error: 0.0524317\tvalid_1's multi_error: 0.0531783\n",
            "[200]\ttraining's multi_error: 0.040037\tvalid_1's multi_error: 0.0448563\n",
            "[300]\ttraining's multi_error: 0.0355119\tvalid_1's multi_error: 0.0430856\n",
            "[400]\ttraining's multi_error: 0.0329608\tvalid_1's multi_error: 0.0414921\n",
            "[500]\ttraining's multi_error: 0.0306262\tvalid_1's multi_error: 0.0408428\n",
            "[600]\ttraining's multi_error: 0.0287309\tvalid_1's multi_error: 0.0403707\n",
            "[700]\ttraining's multi_error: 0.027052\tvalid_1's multi_error: 0.0399575\n",
            "[800]\ttraining's multi_error: 0.0257142\tvalid_1's multi_error: 0.0393083\n",
            "[900]\ttraining's multi_error: 0.0243435\tvalid_1's multi_error: 0.0387181\n",
            "[1000]\ttraining's multi_error: 0.0230582\tvalid_1's multi_error: 0.0380688\n",
            "[1100]\ttraining's multi_error: 0.0218187\tvalid_1's multi_error: 0.0377737\n",
            "[1200]\ttraining's multi_error: 0.0205923\tvalid_1's multi_error: 0.0377737\n",
            "[1300]\ttraining's multi_error: 0.0194053\tvalid_1's multi_error: 0.0373015\n",
            "[1400]\ttraining's multi_error: 0.0183954\tvalid_1's multi_error: 0.0371245\n",
            "[1500]\ttraining's multi_error: 0.0172936\tvalid_1's multi_error: 0.0368294\n",
            "[1600]\ttraining's multi_error: 0.0162443\tvalid_1's multi_error: 0.0367113\n",
            "[1700]\ttraining's multi_error: 0.0153\tvalid_1's multi_error: 0.0362982\n",
            "Early stopping, best iteration is:\n",
            "[1651]\ttraining's multi_error: 0.0156869\tvalid_1's multi_error: 0.0362392\n",
            "验证集上标签为1的f1值： 0.4985028986430528\n",
            "验证集上标签为2的f1值： 0.22911694510739858\n",
            "验证集上标签为3的f1值： 0.20105820105820105\n",
            "验证集总分： 0.2661588893850109\n",
            "************************lgb:8******************************\n",
            "Training until validation scores don't improve for 100 rounds.\n",
            "[100]\ttraining's multi_error: 0.0524445\tvalid_1's multi_error: 0.0548932\n",
            "[200]\ttraining's multi_error: 0.0400367\tvalid_1's multi_error: 0.0462165\n",
            "[300]\ttraining's multi_error: 0.035269\tvalid_1's multi_error: 0.0432062\n",
            "[400]\ttraining's multi_error: 0.0325081\tvalid_1's multi_error: 0.0424389\n",
            "[500]\ttraining's multi_error: 0.0301472\tvalid_1's multi_error: 0.0419077\n",
            "[600]\ttraining's multi_error: 0.0287438\tvalid_1's multi_error: 0.0416126\n",
            "[700]\ttraining's multi_error: 0.0271633\tvalid_1's multi_error: 0.0413765\n",
            "[800]\ttraining's multi_error: 0.0256615\tvalid_1's multi_error: 0.0409633\n",
            "Early stopping, best iteration is:\n",
            "[765]\ttraining's multi_error: 0.0262321\tvalid_1's multi_error: 0.0408452\n",
            "验证集上标签为1的f1值： 0.49878996306203033\n",
            "验证集上标签为2的f1值： 0.2265060240963855\n",
            "验证集上标签为3的f1值： 0.20865139949109415\n",
            "验证集总分： 0.27025003712633966\n",
            "************************lgb:9******************************\n",
            "Training until validation scores don't improve for 100 rounds.\n",
            "[100]\ttraining's multi_error: 0.0523461\tvalid_1's multi_error: 0.0551883\n",
            "[200]\ttraining's multi_error: 0.0398924\tvalid_1's multi_error: 0.0460394\n",
            "[300]\ttraining's multi_error: 0.0354002\tvalid_1's multi_error: 0.0435604\n",
            "[400]\ttraining's multi_error: 0.0328295\tvalid_1's multi_error: 0.0427931\n",
            "[500]\ttraining's multi_error: 0.0306194\tvalid_1's multi_error: 0.0420257\n",
            "[600]\ttraining's multi_error: 0.0289733\tvalid_1's multi_error: 0.0414945\n",
            "[700]\ttraining's multi_error: 0.027465\tvalid_1's multi_error: 0.0408452\n",
            "[800]\ttraining's multi_error: 0.0259567\tvalid_1's multi_error: 0.0399008\n",
            "[900]\ttraining's multi_error: 0.0245926\tvalid_1's multi_error: 0.0397238\n",
            "[1000]\ttraining's multi_error: 0.0231498\tvalid_1's multi_error: 0.0391925\n",
            "[1100]\ttraining's multi_error: 0.021753\tvalid_1's multi_error: 0.0390745\n",
            "[1200]\ttraining's multi_error: 0.0205987\tvalid_1's multi_error: 0.0384842\n",
            "[1300]\ttraining's multi_error: 0.0195429\tvalid_1's multi_error: 0.0384252\n",
            "[1400]\ttraining's multi_error: 0.0185133\tvalid_1's multi_error: 0.0381301\n",
            "[1500]\ttraining's multi_error: 0.0174247\tvalid_1's multi_error: 0.0380711\n",
            "[1600]\ttraining's multi_error: 0.0161983\tvalid_1's multi_error: 0.0377169\n",
            "[1700]\ttraining's multi_error: 0.0153589\tvalid_1's multi_error: 0.0376579\n",
            "[1800]\ttraining's multi_error: 0.0143686\tvalid_1's multi_error: 0.0374808\n",
            "[1900]\ttraining's multi_error: 0.0132866\tvalid_1's multi_error: 0.0370086\n",
            "[2000]\ttraining's multi_error: 0.0122569\tvalid_1's multi_error: 0.0367725\n",
            "[2100]\ttraining's multi_error: 0.0114372\tvalid_1's multi_error: 0.0361823\n",
            "[2200]\ttraining's multi_error: 0.0107617\tvalid_1's multi_error: 0.0359462\n",
            "[2300]\ttraining's multi_error: 0.0100141\tvalid_1's multi_error: 0.0357691\n",
            "Early stopping, best iteration is:\n",
            "[2243]\ttraining's multi_error: 0.0104404\tvalid_1's multi_error: 0.0357101\n",
            "验证集上标签为1的f1值： 0.49859872611464967\n",
            "验证集上标签为2的f1值： 0.22033898305084745\n",
            "验证集上标签为3的f1值： 0.2020997375328084\n",
            "验证集总分： 0.26504738435278447\n",
            "************************lgb:10******************************\n",
            "Training until validation scores don't improve for 100 rounds.\n",
            "[100]\ttraining's multi_error: 0.0525757\tvalid_1's multi_error: 0.0511156\n",
            "[200]\ttraining's multi_error: 0.039899\tvalid_1's multi_error: 0.0433243\n",
            "[300]\ttraining's multi_error: 0.0353936\tvalid_1's multi_error: 0.0413765\n",
            "[400]\ttraining's multi_error: 0.0329409\tvalid_1's multi_error: 0.0407272\n",
            "Early stopping, best iteration is:\n",
            "[363]\ttraining's multi_error: 0.0337279\tvalid_1's multi_error: 0.0406682\n",
            "验证集上标签为1的f1值： 0.49888641425389757\n",
            "验证集上标签为2的f1值： 0.19851116625310175\n",
            "验证集上标签为3的f1值： 0.19008264462809918\n",
            "验证集总分： 0.25352910287825936\n",
            "验证集上标签为1的f1值： 0.4977967941758733\n",
            "验证集上标签为2的f1值： 0.2708333333333333\n",
            "验证集上标签为3的f1值： 0.23423423423423426\n",
            "验证集总分： 0.2942665660423819\n"
          ]
        }
      ],
      "source": [
        "#调用lgb\n",
        "lgb_scoret,lgb_score = train_start(traindata,valid,testa,feature,index_cols,m_type='lgb',average='micro')\n",
        "#lgb验证集融合\n",
        "lgb_score['predict']=lgb_score.max(axis=1)\n",
        "#lgb线下验证\n",
        "downmse(valid,lgb_score['predict'].values)"
      ]
    },
    {
      "cell_type": "code",
      "execution_count": null,
      "metadata": {
        "id": "X61jta_sbszu"
      },
      "outputs": [],
      "source": [
        "#每个模型内部先融合\n",
        "xgb_scoret['label'] = xgb_scoret.max(axis=1)\n",
        "lgb_scoret['label'] = lgb_scoret.max(axis=1)\n",
        "cat_scoret['label'] = cat_scoret.max(axis=1)"
      ]
    },
    {
      "cell_type": "code",
      "execution_count": null,
      "metadata": {
        "colab": {
          "base_uri": "https://localhost:8080/",
          "height": 280
        },
        "id": "0RTM7HN1bvix",
        "outputId": "1cc739c0-b290-4bab-f67f-7a483c779052"
      },
      "outputs": [
        {
          "output_type": "execute_result",
          "data": {
            "text/plain": [
              "<matplotlib.axes._subplots.AxesSubplot at 0x7fe7cdbb7b50>"
            ]
          },
          "metadata": {},
          "execution_count": 31
        },
        {
          "output_type": "display_data",
          "data": {
            "text/plain": [
              "<Figure size 432x288 with 1 Axes>"
            ],
            "image/png": "[encoded data removed]"
          },
          "metadata": {
            "needs_background": "light"
          }
        }
      ],
      "source": [
        "xgb_scoret['label'].value_counts().plot.bar()"
      ]
    },
    {
      "cell_type": "code",
      "execution_count": null,
      "metadata": {
        "colab": {
          "base_uri": "https://localhost:8080/",
          "height": 280
        },
        "id": "x12VrMA2bxcH",
        "outputId": "d9cf59fb-13b6-4a1c-bf7e-cccb378d053c"
      },
      "outputs": [
        {
          "output_type": "execute_result",
          "data": {
            "text/plain": [
              "<matplotlib.axes._subplots.AxesSubplot at 0x7fe7cdad3d50>"
            ]
          },
          "metadata": {},
          "execution_count": 32
        },
        {
          "output_type": "display_data",
          "data": {
            "text/plain": [
              "<Figure size 432x288 with 1 Axes>"
            ],
            "image/png": "[encoded data removed]"
          },
          "metadata": {
            "needs_background": "light"
          }
        }
      ],
      "source": [
        "lgb_scoret['label'].value_counts().plot.bar()"
      ]
    },
    {
      "cell_type": "code",
      "execution_count": null,
      "metadata": {
        "colab": {
          "base_uri": "https://localhost:8080/",
          "height": 280
        },
        "id": "rdcTA3IvbzYh",
        "outputId": "8932c6b0-f2c3-487f-a588-f1abc3788c39"
      },
      "outputs": [
        {
          "output_type": "execute_result",
          "data": {
            "text/plain": [
              "<matplotlib.axes._subplots.AxesSubplot at 0x7fe7cdacf0d0>"
            ]
          },
          "metadata": {},
          "execution_count": 33
        },
        {
          "output_type": "display_data",
          "data": {
            "text/plain": [
              "<Figure size 432x288 with 1 Axes>"
            ],
            "image/png": "[encoded data removed]"
          },
          "metadata": {
            "needs_background": "light"
          }
        }
      ],
      "source": [
        "cat_scoret['label'].value_counts().plot.bar()"
      ]
    },
    {
      "cell_type": "code",
      "execution_count": null,
      "metadata": {
        "id": "PwWi2gi8b1xZ"
      },
      "outputs": [],
      "source": [
        "#用一个dataframe存储结果\n",
        "result = pd.DataFrame()\n",
        "#将三个模型的结果按照列排放，每个预测样本结果并列\n",
        "pred = pd.concat([lgb_scoret,xgb_scoret,cat_scoret],axis=1)\n",
        "#每一行取最大值\n",
        "result['label'] = pred.max(axis=1)"
      ]
    },
    {
      "cell_type": "code",
      "execution_count": null,
      "metadata": {
        "colab": {
          "base_uri": "https://localhost:8080/",
          "height": 280
        },
        "id": "iL49H8tab9bS",
        "outputId": "249c9999-0ce0-4b3c-d712-776c6611e333"
      },
      "outputs": [
        {
          "output_type": "execute_result",
          "data": {
            "text/plain": [
              "<matplotlib.axes._subplots.AxesSubplot at 0x7fe7ccfc5690>"
            ]
          },
          "metadata": {},
          "execution_count": 35
        },
        {
          "output_type": "display_data",
          "data": {
            "text/plain": [
              "<Figure size 432x288 with 1 Axes>"
            ],
            "image/png": "[encoded data removed]"
          },
          "metadata": {
            "needs_background": "light"
          }
        }
      ],
      "source": [
        "#融合结果可视化\n",
        "result['label'].value_counts().plot.bar()"
      ]
    },
    {
      "cell_type": "code",
      "execution_count": null,
      "metadata": {
        "id": "DoY08_hjnIAV"
      },
      "outputs": [],
      "source": [
        "result['link']=testa['link']\n",
        "result['current_slice_id']=testa['current_slice_id']\n",
        "result['future_slice_id']=testa['future_slice_id']\n",
        "result[['link','current_slice_id','future_slice_id','label']].to_csv('./drive/My Drive/datasets/data/submit.csv',index=False)"
      ]
    }
  ],
  "metadata": {
    "colab": {
      "collapsed_sections": [],
      "provenance": [],
      "mount_file_id": "1Q5WyGhddm--hgEsQm4zydHuyZkCIlwuS",
      "authorship_tag": "ABX9TyN+yKOwbREElunBnCBwpbWN",
      "include_colab_link": true
    },
    "kernelspec": {
      "display_name": "Python 3",
      "name": "python3"
    },
    "language_info": {
      "name": "python"
    },
    "gpuClass": "standard"
  },
  "nbformat": 4,
  "nbformat_minor": 0
}